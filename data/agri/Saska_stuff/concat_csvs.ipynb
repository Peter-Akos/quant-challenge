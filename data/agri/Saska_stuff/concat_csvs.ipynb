{
 "cells": [
  {
   "cell_type": "code",
   "execution_count": 1,
   "metadata": {},
   "outputs": [],
   "source": [
    "import pandas as pd\n",
    "import numpy as np"
   ]
  },
  {
   "cell_type": "code",
   "execution_count": 5,
   "metadata": {},
   "outputs": [],
   "source": [
    "df1 = pd.read_csv('../../../Training Notebooks/corn_predicts.csv', index_col=0).fillna(0)\n",
    "df2 = pd.read_csv('../../../Training Notebooks/oat_predicts.csv', index_col=0).fillna(0)\n",
    "df3 = pd.read_csv('../../../Training Notebooks/soybeans_predicts.csv', index_col=0).fillna(0)\n",
    "\n",
    "concated = pd.concat([df1, df2, df3])\n",
    "\n",
    "concated.to_csv(\"merged_predictions.csv\", index=False)"
   ]
  }
 ],
 "metadata": {
  "kernelspec": {
   "display_name": "Python 3",
   "language": "python",
   "name": "python3"
  },
  "language_info": {
   "codemirror_mode": {
    "name": "ipython",
    "version": 3
   },
   "file_extension": ".py",
   "mimetype": "text/x-python",
   "name": "python",
   "nbconvert_exporter": "python",
   "pygments_lexer": "ipython3",
   "version": "3.9.13"
  },
  "orig_nbformat": 4
 },
 "nbformat": 4,
 "nbformat_minor": 2
}
