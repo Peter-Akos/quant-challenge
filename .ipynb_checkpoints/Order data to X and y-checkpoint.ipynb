{
 "cells": [
  {
   "cell_type": "code",
   "execution_count": 1,
   "id": "3a83a260",
   "metadata": {},
   "outputs": [],
   "source": [
    "import pandas as pd\n",
    "import numpy as np"
   ]
  },
  {
   "cell_type": "code",
   "execution_count": 42,
   "id": "5555aa0a",
   "metadata": {},
   "outputs": [],
   "source": [
    "country_station_df = pd.read_csv('county-station.csv')"
   ]
  },
  {
   "cell_type": "code",
   "execution_count": 43,
   "id": "c73c1a5e",
   "metadata": {},
   "outputs": [],
   "source": [
    "country_station_df = country_station_df.drop(columns=['Unnamed: 0'], axis=1)"
   ]
  },
  {
   "cell_type": "code",
   "execution_count": 44,
   "id": "e2036741",
   "metadata": {},
   "outputs": [
    {
     "data": {
      "text/html": [
       "<div>\n",
       "<style scoped>\n",
       "    .dataframe tbody tr th:only-of-type {\n",
       "        vertical-align: middle;\n",
       "    }\n",
       "\n",
       "    .dataframe tbody tr th {\n",
       "        vertical-align: top;\n",
       "    }\n",
       "\n",
       "    .dataframe thead th {\n",
       "        text-align: right;\n",
       "    }\n",
       "</style>\n",
       "<table border=\"1\" class=\"dataframe\">\n",
       "  <thead>\n",
       "    <tr style=\"text-align: right;\">\n",
       "      <th></th>\n",
       "      <th>County Name</th>\n",
       "      <th>Station</th>\n",
       "    </tr>\n",
       "  </thead>\n",
       "  <tbody>\n",
       "    <tr>\n",
       "      <th>0</th>\n",
       "      <td>Saint Louis County</td>\n",
       "      <td>72745</td>\n",
       "    </tr>\n",
       "    <tr>\n",
       "      <th>1</th>\n",
       "      <td>Saint Louis County</td>\n",
       "      <td>KDYT0</td>\n",
       "    </tr>\n",
       "  </tbody>\n",
       "</table>\n",
       "</div>"
      ],
      "text/plain": [
       "          County Name Station\n",
       "0  Saint Louis County   72745\n",
       "1  Saint Louis County   KDYT0"
      ]
     },
     "execution_count": 44,
     "metadata": {},
     "output_type": "execute_result"
    }
   ],
   "source": [
    "country_station_df[country_station_df['County Name'] == 'Saint Louis County']"
   ]
  },
  {
   "cell_type": "code",
   "execution_count": 48,
   "id": "92bdc8de",
   "metadata": {},
   "outputs": [],
   "source": [
    "def get_stations(county):\n",
    "    a = country_station_df[country_station_df['County Name'] == county]\n",
    "    return a['Station'].to_list()"
   ]
  },
  {
   "cell_type": "code",
   "execution_count": 49,
   "id": "fbd3c5c0",
   "metadata": {},
   "outputs": [
    {
     "data": {
      "text/plain": [
       "['72745', 'KDYT0']"
      ]
     },
     "execution_count": 49,
     "metadata": {},
     "output_type": "execute_result"
    }
   ],
   "source": [
    "get_stations('Saint Louis County')"
   ]
  },
  {
   "cell_type": "code",
   "execution_count": 51,
   "id": "aac5613c",
   "metadata": {},
   "outputs": [],
   "source": [
    "county_names = list(set(country_station_df['County Name'].to_list()))"
   ]
  },
  {
   "cell_type": "code",
   "execution_count": 53,
   "id": "0d8c6b85",
   "metadata": {},
   "outputs": [
    {
     "data": {
      "text/plain": [
       "87"
      ]
     },
     "execution_count": 53,
     "metadata": {},
     "output_type": "execute_result"
    }
   ],
   "source": [
    "len(county_names)"
   ]
  },
  {
   "cell_type": "code",
   "execution_count": null,
   "id": "6ef06a7b",
   "metadata": {},
   "outputs": [],
   "source": [
    "for county in county_names:\n",
    "    stations = get_stations(county)\n",
    "    for station in stations:\n",
    "        # open csva and read data read data from csv"
   ]
  },
  {
   "cell_type": "code",
   "execution_count": 67,
   "id": "44dcba2f",
   "metadata": {},
   "outputs": [],
   "source": [
    "def open_and_read_data(station):\n",
    "    station_df = pd.read_csv('data/weather/minnesota_daily/' + station + '.csv', names=['data', 'avg', 'min', 'max', 'prec'], header=None)\n",
    "    print(station_df)"
   ]
  },
  {
   "cell_type": "code",
   "execution_count": 85,
   "id": "ac3d4278",
   "metadata": {},
   "outputs": [
    {
     "name": "stdout",
     "output_type": "stream",
     "text": [
      "             data   avg   min   max  prec\n",
      "0      1948-01-01   NaN -15.6  -3.3   0.0\n",
      "1      1948-01-02  -4.1  -8.9  -2.2   0.0\n",
      "2      1948-01-03  -8.5 -12.8  -5.6   0.0\n",
      "3      1948-01-04  -6.5 -10.0  -1.7   0.0\n",
      "4      1948-01-05  -2.9  -7.2   1.1   0.0\n",
      "...           ...   ...   ...   ...   ...\n",
      "27199  2022-06-20  23.2  17.5  28.4   NaN\n",
      "27200  2022-06-21  22.2  17.5  26.7   NaN\n",
      "27201  2022-06-22  20.3  15.0  25.1   NaN\n",
      "27202  2022-06-23  19.5  14.4  24.8   NaN\n",
      "27203  2022-06-24  19.0  13.8  23.9   NaN\n",
      "\n",
      "[27204 rows x 5 columns]\n"
     ]
    }
   ],
   "source": [
    "open_and_read_data('72745')"
   ]
  },
  {
   "cell_type": "code",
   "execution_count": 89,
   "id": "99cd1fcc",
   "metadata": {},
   "outputs": [],
   "source": [
    "station_df = pd.read_csv('data/weather/minnesota_daily/' + '72745' + '.csv', names=['data', 'avg', 'min', 'max','prec'], header=None)"
   ]
  },
  {
   "cell_type": "code",
   "execution_count": 90,
   "id": "598a26be",
   "metadata": {},
   "outputs": [
    {
     "data": {
      "text/plain": [
       "data       0\n",
       "avg     2995\n",
       "min        0\n",
       "max        0\n",
       "prec       7\n",
       "dtype: int64"
      ]
     },
     "execution_count": 90,
     "metadata": {},
     "output_type": "execute_result"
    }
   ],
   "source": [
    "station_df.isna().sum()"
   ]
  },
  {
   "cell_type": "code",
   "execution_count": 91,
   "id": "c9011181",
   "metadata": {},
   "outputs": [],
   "source": [
    "station_df = station_df.drop(columns=['prec'], axis=1)"
   ]
  },
  {
   "cell_type": "code",
   "execution_count": 92,
   "id": "169a074a",
   "metadata": {},
   "outputs": [
    {
     "data": {
      "text/plain": [
       "Index(['data', 'avg', 'min', 'max'], dtype='object')"
      ]
     },
     "execution_count": 92,
     "metadata": {},
     "output_type": "execute_result"
    }
   ],
   "source": [
    "station_df.columns"
   ]
  },
  {
   "cell_type": "code",
   "execution_count": 93,
   "id": "1d7a3162",
   "metadata": {},
   "outputs": [
    {
     "data": {
      "text/html": [
       "<div>\n",
       "<style scoped>\n",
       "    .dataframe tbody tr th:only-of-type {\n",
       "        vertical-align: middle;\n",
       "    }\n",
       "\n",
       "    .dataframe tbody tr th {\n",
       "        vertical-align: top;\n",
       "    }\n",
       "\n",
       "    .dataframe thead th {\n",
       "        text-align: right;\n",
       "    }\n",
       "</style>\n",
       "<table border=\"1\" class=\"dataframe\">\n",
       "  <thead>\n",
       "    <tr style=\"text-align: right;\">\n",
       "      <th></th>\n",
       "      <th>data</th>\n",
       "      <th>avg</th>\n",
       "      <th>min</th>\n",
       "      <th>max</th>\n",
       "    </tr>\n",
       "  </thead>\n",
       "  <tbody>\n",
       "    <tr>\n",
       "      <th>0</th>\n",
       "      <td>1948-01-01</td>\n",
       "      <td>NaN</td>\n",
       "      <td>-15.6</td>\n",
       "      <td>-3.3</td>\n",
       "    </tr>\n",
       "    <tr>\n",
       "      <th>1</th>\n",
       "      <td>1948-01-02</td>\n",
       "      <td>-4.1</td>\n",
       "      <td>-8.9</td>\n",
       "      <td>-2.2</td>\n",
       "    </tr>\n",
       "    <tr>\n",
       "      <th>2</th>\n",
       "      <td>1948-01-03</td>\n",
       "      <td>-8.5</td>\n",
       "      <td>-12.8</td>\n",
       "      <td>-5.6</td>\n",
       "    </tr>\n",
       "    <tr>\n",
       "      <th>3</th>\n",
       "      <td>1948-01-04</td>\n",
       "      <td>-6.5</td>\n",
       "      <td>-10.0</td>\n",
       "      <td>-1.7</td>\n",
       "    </tr>\n",
       "    <tr>\n",
       "      <th>4</th>\n",
       "      <td>1948-01-05</td>\n",
       "      <td>-2.9</td>\n",
       "      <td>-7.2</td>\n",
       "      <td>1.1</td>\n",
       "    </tr>\n",
       "    <tr>\n",
       "      <th>...</th>\n",
       "      <td>...</td>\n",
       "      <td>...</td>\n",
       "      <td>...</td>\n",
       "      <td>...</td>\n",
       "    </tr>\n",
       "    <tr>\n",
       "      <th>27199</th>\n",
       "      <td>2022-06-20</td>\n",
       "      <td>23.2</td>\n",
       "      <td>17.5</td>\n",
       "      <td>28.4</td>\n",
       "    </tr>\n",
       "    <tr>\n",
       "      <th>27200</th>\n",
       "      <td>2022-06-21</td>\n",
       "      <td>22.2</td>\n",
       "      <td>17.5</td>\n",
       "      <td>26.7</td>\n",
       "    </tr>\n",
       "    <tr>\n",
       "      <th>27201</th>\n",
       "      <td>2022-06-22</td>\n",
       "      <td>20.3</td>\n",
       "      <td>15.0</td>\n",
       "      <td>25.1</td>\n",
       "    </tr>\n",
       "    <tr>\n",
       "      <th>27202</th>\n",
       "      <td>2022-06-23</td>\n",
       "      <td>19.5</td>\n",
       "      <td>14.4</td>\n",
       "      <td>24.8</td>\n",
       "    </tr>\n",
       "    <tr>\n",
       "      <th>27203</th>\n",
       "      <td>2022-06-24</td>\n",
       "      <td>19.0</td>\n",
       "      <td>13.8</td>\n",
       "      <td>23.9</td>\n",
       "    </tr>\n",
       "  </tbody>\n",
       "</table>\n",
       "<p>27204 rows × 4 columns</p>\n",
       "</div>"
      ],
      "text/plain": [
       "             data   avg   min   max\n",
       "0      1948-01-01   NaN -15.6  -3.3\n",
       "1      1948-01-02  -4.1  -8.9  -2.2\n",
       "2      1948-01-03  -8.5 -12.8  -5.6\n",
       "3      1948-01-04  -6.5 -10.0  -1.7\n",
       "4      1948-01-05  -2.9  -7.2   1.1\n",
       "...           ...   ...   ...   ...\n",
       "27199  2022-06-20  23.2  17.5  28.4\n",
       "27200  2022-06-21  22.2  17.5  26.7\n",
       "27201  2022-06-22  20.3  15.0  25.1\n",
       "27202  2022-06-23  19.5  14.4  24.8\n",
       "27203  2022-06-24  19.0  13.8  23.9\n",
       "\n",
       "[27204 rows x 4 columns]"
      ]
     },
     "execution_count": 93,
     "metadata": {},
     "output_type": "execute_result"
    }
   ],
   "source": [
    "station_df"
   ]
  },
  {
   "cell_type": "code",
   "execution_count": 99,
   "id": "cfea5321",
   "metadata": {},
   "outputs": [
    {
     "data": {
      "text/plain": [
       "0"
      ]
     },
     "execution_count": 99,
     "metadata": {},
     "output_type": "execute_result"
    }
   ],
   "source": [
    "station_df['max'].isna().sum()"
   ]
  },
  {
   "cell_type": "code",
   "execution_count": null,
   "id": "a2a5f8d5",
   "metadata": {},
   "outputs": [],
   "source": []
  }
 ],
 "metadata": {
  "kernelspec": {
   "display_name": "Python 3 (ipykernel)",
   "language": "python",
   "name": "python3"
  },
  "language_info": {
   "codemirror_mode": {
    "name": "ipython",
    "version": 3
   },
   "file_extension": ".py",
   "mimetype": "text/x-python",
   "name": "python",
   "nbconvert_exporter": "python",
   "pygments_lexer": "ipython3",
   "version": "3.9.13"
  }
 },
 "nbformat": 4,
 "nbformat_minor": 5
}
