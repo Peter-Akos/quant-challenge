{
 "cells": [
  {
   "cell_type": "code",
   "execution_count": 1,
   "id": "de30aeea",
   "metadata": {},
   "outputs": [],
   "source": [
    "import pandas as pd\n",
    "import numpy as np\n",
    "from sklearn.linear_model import LinearRegression\n",
    "from sklearn.model_selection import train_test_split\n",
    "from sklearn.decomposition import PCA\n",
    "from sklearn.neural_network import MLPRegressor\n",
    "from sklearn.model_selection import cross_val_score"
   ]
  },
  {
   "cell_type": "code",
   "execution_count": 5,
   "id": "a5a33782",
   "metadata": {},
   "outputs": [],
   "source": [
    "df = pd.read_csv('../data/united_data.csv', index_col=0)"
   ]
  },
  {
   "cell_type": "code",
   "execution_count": 6,
   "id": "7635ab58",
   "metadata": {},
   "outputs": [
    {
     "data": {
      "text/html": [
       "<div>\n",
       "<style scoped>\n",
       "    .dataframe tbody tr th:only-of-type {\n",
       "        vertical-align: middle;\n",
       "    }\n",
       "\n",
       "    .dataframe tbody tr th {\n",
       "        vertical-align: top;\n",
       "    }\n",
       "\n",
       "    .dataframe thead th {\n",
       "        text-align: right;\n",
       "    }\n",
       "</style>\n",
       "<table border=\"1\" class=\"dataframe\">\n",
       "  <thead>\n",
       "    <tr style=\"text-align: right;\">\n",
       "      <th></th>\n",
       "      <th>01-01-avg</th>\n",
       "      <th>01-01-min</th>\n",
       "      <th>01-01-max</th>\n",
       "      <th>01-01-prec</th>\n",
       "      <th>01-02-avg</th>\n",
       "      <th>01-02-min</th>\n",
       "      <th>01-02-max</th>\n",
       "      <th>01-02-prec</th>\n",
       "      <th>01-03-avg</th>\n",
       "      <th>01-03-min</th>\n",
       "      <th>...</th>\n",
       "      <th>09-27-prec</th>\n",
       "      <th>09-28-avg</th>\n",
       "      <th>09-28-min</th>\n",
       "      <th>09-28-max</th>\n",
       "      <th>09-28-prec</th>\n",
       "      <th>09-30-avg</th>\n",
       "      <th>09-30-min</th>\n",
       "      <th>09-30-max</th>\n",
       "      <th>09-30-prec</th>\n",
       "      <th>Corn_Yield</th>\n",
       "    </tr>\n",
       "  </thead>\n",
       "  <tbody>\n",
       "    <tr>\n",
       "      <th>2016-Nicollet County</th>\n",
       "      <td>-5.60</td>\n",
       "      <td>-9.0</td>\n",
       "      <td>-1.0</td>\n",
       "      <td>NaN</td>\n",
       "      <td>-6.10</td>\n",
       "      <td>-12.0</td>\n",
       "      <td>-1.0</td>\n",
       "      <td>NaN</td>\n",
       "      <td>-4.00</td>\n",
       "      <td>-7.0</td>\n",
       "      <td>...</td>\n",
       "      <td>NaN</td>\n",
       "      <td>NaN</td>\n",
       "      <td>NaN</td>\n",
       "      <td>NaN</td>\n",
       "      <td>NaN</td>\n",
       "      <td>NaN</td>\n",
       "      <td>NaN</td>\n",
       "      <td>NaN</td>\n",
       "      <td>NaN</td>\n",
       "      <td>209.4</td>\n",
       "    </tr>\n",
       "    <tr>\n",
       "      <th>2020-Nicollet County</th>\n",
       "      <td>-3.50</td>\n",
       "      <td>-10.0</td>\n",
       "      <td>1.1</td>\n",
       "      <td>NaN</td>\n",
       "      <td>0.40</td>\n",
       "      <td>-0.6</td>\n",
       "      <td>1.7</td>\n",
       "      <td>NaN</td>\n",
       "      <td>-0.80</td>\n",
       "      <td>-5.0</td>\n",
       "      <td>...</td>\n",
       "      <td>NaN</td>\n",
       "      <td>10.6</td>\n",
       "      <td>8.9</td>\n",
       "      <td>12.8</td>\n",
       "      <td>NaN</td>\n",
       "      <td>13.20</td>\n",
       "      <td>10.0</td>\n",
       "      <td>16.1</td>\n",
       "      <td>NaN</td>\n",
       "      <td>205.9</td>\n",
       "    </tr>\n",
       "    <tr>\n",
       "      <th>2021-Nicollet County</th>\n",
       "      <td>-8.50</td>\n",
       "      <td>-11.7</td>\n",
       "      <td>-1.7</td>\n",
       "      <td>NaN</td>\n",
       "      <td>-8.20</td>\n",
       "      <td>-13.3</td>\n",
       "      <td>-1.1</td>\n",
       "      <td>0.0</td>\n",
       "      <td>-7.00</td>\n",
       "      <td>-11.7</td>\n",
       "      <td>...</td>\n",
       "      <td>0.0</td>\n",
       "      <td>19.6</td>\n",
       "      <td>12.8</td>\n",
       "      <td>28.9</td>\n",
       "      <td>0.0</td>\n",
       "      <td>20.90</td>\n",
       "      <td>16.7</td>\n",
       "      <td>24.4</td>\n",
       "      <td>1.4</td>\n",
       "      <td>209.5</td>\n",
       "    </tr>\n",
       "    <tr>\n",
       "      <th>2006-Nicollet County</th>\n",
       "      <td>-2.10</td>\n",
       "      <td>-4.0</td>\n",
       "      <td>0.0</td>\n",
       "      <td>NaN</td>\n",
       "      <td>0.00</td>\n",
       "      <td>-1.0</td>\n",
       "      <td>1.0</td>\n",
       "      <td>NaN</td>\n",
       "      <td>0.60</td>\n",
       "      <td>0.0</td>\n",
       "      <td>...</td>\n",
       "      <td>NaN</td>\n",
       "      <td>7.6</td>\n",
       "      <td>5.0</td>\n",
       "      <td>10.0</td>\n",
       "      <td>NaN</td>\n",
       "      <td>13.80</td>\n",
       "      <td>7.0</td>\n",
       "      <td>22.0</td>\n",
       "      <td>NaN</td>\n",
       "      <td>180.0</td>\n",
       "    </tr>\n",
       "    <tr>\n",
       "      <th>2007-Nicollet County</th>\n",
       "      <td>-5.80</td>\n",
       "      <td>-8.0</td>\n",
       "      <td>-3.0</td>\n",
       "      <td>NaN</td>\n",
       "      <td>-3.20</td>\n",
       "      <td>-7.0</td>\n",
       "      <td>1.0</td>\n",
       "      <td>NaN</td>\n",
       "      <td>0.50</td>\n",
       "      <td>-2.0</td>\n",
       "      <td>...</td>\n",
       "      <td>NaN</td>\n",
       "      <td>13.7</td>\n",
       "      <td>6.0</td>\n",
       "      <td>22.0</td>\n",
       "      <td>NaN</td>\n",
       "      <td>NaN</td>\n",
       "      <td>NaN</td>\n",
       "      <td>NaN</td>\n",
       "      <td>NaN</td>\n",
       "      <td>145.0</td>\n",
       "    </tr>\n",
       "    <tr>\n",
       "      <th>...</th>\n",
       "      <td>...</td>\n",
       "      <td>...</td>\n",
       "      <td>...</td>\n",
       "      <td>...</td>\n",
       "      <td>...</td>\n",
       "      <td>...</td>\n",
       "      <td>...</td>\n",
       "      <td>...</td>\n",
       "      <td>...</td>\n",
       "      <td>...</td>\n",
       "      <td>...</td>\n",
       "      <td>...</td>\n",
       "      <td>...</td>\n",
       "      <td>...</td>\n",
       "      <td>...</td>\n",
       "      <td>...</td>\n",
       "      <td>...</td>\n",
       "      <td>...</td>\n",
       "      <td>...</td>\n",
       "      <td>...</td>\n",
       "      <td>...</td>\n",
       "    </tr>\n",
       "    <tr>\n",
       "      <th>2011-Rice County</th>\n",
       "      <td>NaN</td>\n",
       "      <td>NaN</td>\n",
       "      <td>NaN</td>\n",
       "      <td>NaN</td>\n",
       "      <td>NaN</td>\n",
       "      <td>NaN</td>\n",
       "      <td>NaN</td>\n",
       "      <td>NaN</td>\n",
       "      <td>-6.40</td>\n",
       "      <td>-15.0</td>\n",
       "      <td>...</td>\n",
       "      <td>NaN</td>\n",
       "      <td>18.0</td>\n",
       "      <td>11.5</td>\n",
       "      <td>27.0</td>\n",
       "      <td>NaN</td>\n",
       "      <td>12.00</td>\n",
       "      <td>6.5</td>\n",
       "      <td>17.5</td>\n",
       "      <td>NaN</td>\n",
       "      <td>158.3</td>\n",
       "    </tr>\n",
       "    <tr>\n",
       "      <th>2012-Rice County</th>\n",
       "      <td>-3.60</td>\n",
       "      <td>-8.0</td>\n",
       "      <td>1.0</td>\n",
       "      <td>NaN</td>\n",
       "      <td>-9.30</td>\n",
       "      <td>-13.0</td>\n",
       "      <td>-7.0</td>\n",
       "      <td>NaN</td>\n",
       "      <td>-6.55</td>\n",
       "      <td>-13.5</td>\n",
       "      <td>...</td>\n",
       "      <td>NaN</td>\n",
       "      <td>12.3</td>\n",
       "      <td>2.0</td>\n",
       "      <td>23.0</td>\n",
       "      <td>NaN</td>\n",
       "      <td>15.80</td>\n",
       "      <td>6.0</td>\n",
       "      <td>26.0</td>\n",
       "      <td>NaN</td>\n",
       "      <td>186.1</td>\n",
       "    </tr>\n",
       "    <tr>\n",
       "      <th>2013-Rice County</th>\n",
       "      <td>-14.35</td>\n",
       "      <td>-22.0</td>\n",
       "      <td>-8.0</td>\n",
       "      <td>NaN</td>\n",
       "      <td>-7.95</td>\n",
       "      <td>-14.0</td>\n",
       "      <td>-2.0</td>\n",
       "      <td>NaN</td>\n",
       "      <td>-10.85</td>\n",
       "      <td>-13.0</td>\n",
       "      <td>...</td>\n",
       "      <td>NaN</td>\n",
       "      <td>16.3</td>\n",
       "      <td>8.0</td>\n",
       "      <td>22.0</td>\n",
       "      <td>NaN</td>\n",
       "      <td>18.80</td>\n",
       "      <td>12.5</td>\n",
       "      <td>26.5</td>\n",
       "      <td>NaN</td>\n",
       "      <td>168.5</td>\n",
       "    </tr>\n",
       "    <tr>\n",
       "      <th>2014-Rice County</th>\n",
       "      <td>-19.10</td>\n",
       "      <td>-22.0</td>\n",
       "      <td>-17.0</td>\n",
       "      <td>NaN</td>\n",
       "      <td>-21.80</td>\n",
       "      <td>-28.0</td>\n",
       "      <td>-17.5</td>\n",
       "      <td>NaN</td>\n",
       "      <td>-12.30</td>\n",
       "      <td>-27.0</td>\n",
       "      <td>...</td>\n",
       "      <td>NaN</td>\n",
       "      <td>19.4</td>\n",
       "      <td>12.0</td>\n",
       "      <td>27.0</td>\n",
       "      <td>NaN</td>\n",
       "      <td>11.65</td>\n",
       "      <td>7.0</td>\n",
       "      <td>17.5</td>\n",
       "      <td>NaN</td>\n",
       "      <td>157.1</td>\n",
       "    </tr>\n",
       "    <tr>\n",
       "      <th>2015-Rice County</th>\n",
       "      <td>-5.90</td>\n",
       "      <td>-12.0</td>\n",
       "      <td>0.0</td>\n",
       "      <td>NaN</td>\n",
       "      <td>-6.75</td>\n",
       "      <td>-11.0</td>\n",
       "      <td>-2.5</td>\n",
       "      <td>NaN</td>\n",
       "      <td>-4.90</td>\n",
       "      <td>-12.0</td>\n",
       "      <td>...</td>\n",
       "      <td>NaN</td>\n",
       "      <td>20.2</td>\n",
       "      <td>16.5</td>\n",
       "      <td>25.0</td>\n",
       "      <td>NaN</td>\n",
       "      <td>10.30</td>\n",
       "      <td>2.0</td>\n",
       "      <td>19.0</td>\n",
       "      <td>NaN</td>\n",
       "      <td>201.1</td>\n",
       "    </tr>\n",
       "  </tbody>\n",
       "</table>\n",
       "<p>1172 rows × 889 columns</p>\n",
       "</div>"
      ],
      "text/plain": [
       "                      01-01-avg  01-01-min  01-01-max  01-01-prec  01-02-avg  \\\n",
       "2016-Nicollet County      -5.60       -9.0       -1.0         NaN      -6.10   \n",
       "2020-Nicollet County      -3.50      -10.0        1.1         NaN       0.40   \n",
       "2021-Nicollet County      -8.50      -11.7       -1.7         NaN      -8.20   \n",
       "2006-Nicollet County      -2.10       -4.0        0.0         NaN       0.00   \n",
       "2007-Nicollet County      -5.80       -8.0       -3.0         NaN      -3.20   \n",
       "...                         ...        ...        ...         ...        ...   \n",
       "2011-Rice County            NaN        NaN        NaN         NaN        NaN   \n",
       "2012-Rice County          -3.60       -8.0        1.0         NaN      -9.30   \n",
       "2013-Rice County         -14.35      -22.0       -8.0         NaN      -7.95   \n",
       "2014-Rice County         -19.10      -22.0      -17.0         NaN     -21.80   \n",
       "2015-Rice County          -5.90      -12.0        0.0         NaN      -6.75   \n",
       "\n",
       "                      01-02-min  01-02-max  01-02-prec  01-03-avg  01-03-min  \\\n",
       "2016-Nicollet County      -12.0       -1.0         NaN      -4.00       -7.0   \n",
       "2020-Nicollet County       -0.6        1.7         NaN      -0.80       -5.0   \n",
       "2021-Nicollet County      -13.3       -1.1         0.0      -7.00      -11.7   \n",
       "2006-Nicollet County       -1.0        1.0         NaN       0.60        0.0   \n",
       "2007-Nicollet County       -7.0        1.0         NaN       0.50       -2.0   \n",
       "...                         ...        ...         ...        ...        ...   \n",
       "2011-Rice County            NaN        NaN         NaN      -6.40      -15.0   \n",
       "2012-Rice County          -13.0       -7.0         NaN      -6.55      -13.5   \n",
       "2013-Rice County          -14.0       -2.0         NaN     -10.85      -13.0   \n",
       "2014-Rice County          -28.0      -17.5         NaN     -12.30      -27.0   \n",
       "2015-Rice County          -11.0       -2.5         NaN      -4.90      -12.0   \n",
       "\n",
       "                      ...  09-27-prec  09-28-avg  09-28-min  09-28-max  \\\n",
       "2016-Nicollet County  ...         NaN        NaN        NaN        NaN   \n",
       "2020-Nicollet County  ...         NaN       10.6        8.9       12.8   \n",
       "2021-Nicollet County  ...         0.0       19.6       12.8       28.9   \n",
       "2006-Nicollet County  ...         NaN        7.6        5.0       10.0   \n",
       "2007-Nicollet County  ...         NaN       13.7        6.0       22.0   \n",
       "...                   ...         ...        ...        ...        ...   \n",
       "2011-Rice County      ...         NaN       18.0       11.5       27.0   \n",
       "2012-Rice County      ...         NaN       12.3        2.0       23.0   \n",
       "2013-Rice County      ...         NaN       16.3        8.0       22.0   \n",
       "2014-Rice County      ...         NaN       19.4       12.0       27.0   \n",
       "2015-Rice County      ...         NaN       20.2       16.5       25.0   \n",
       "\n",
       "                      09-28-prec  09-30-avg  09-30-min  09-30-max  09-30-prec  \\\n",
       "2016-Nicollet County         NaN        NaN        NaN        NaN         NaN   \n",
       "2020-Nicollet County         NaN      13.20       10.0       16.1         NaN   \n",
       "2021-Nicollet County         0.0      20.90       16.7       24.4         1.4   \n",
       "2006-Nicollet County         NaN      13.80        7.0       22.0         NaN   \n",
       "2007-Nicollet County         NaN        NaN        NaN        NaN         NaN   \n",
       "...                          ...        ...        ...        ...         ...   \n",
       "2011-Rice County             NaN      12.00        6.5       17.5         NaN   \n",
       "2012-Rice County             NaN      15.80        6.0       26.0         NaN   \n",
       "2013-Rice County             NaN      18.80       12.5       26.5         NaN   \n",
       "2014-Rice County             NaN      11.65        7.0       17.5         NaN   \n",
       "2015-Rice County             NaN      10.30        2.0       19.0         NaN   \n",
       "\n",
       "                      Corn_Yield  \n",
       "2016-Nicollet County       209.4  \n",
       "2020-Nicollet County       205.9  \n",
       "2021-Nicollet County       209.5  \n",
       "2006-Nicollet County       180.0  \n",
       "2007-Nicollet County       145.0  \n",
       "...                          ...  \n",
       "2011-Rice County           158.3  \n",
       "2012-Rice County           186.1  \n",
       "2013-Rice County           168.5  \n",
       "2014-Rice County           157.1  \n",
       "2015-Rice County           201.1  \n",
       "\n",
       "[1172 rows x 889 columns]"
      ]
     },
     "execution_count": 6,
     "metadata": {},
     "output_type": "execute_result"
    }
   ],
   "source": [
    "df"
   ]
  },
  {
   "cell_type": "code",
   "execution_count": 7,
   "id": "c80adc46",
   "metadata": {},
   "outputs": [],
   "source": [
    "df = df.dropna()"
   ]
  },
  {
   "cell_type": "code",
   "execution_count": 8,
   "id": "9494d4b2",
   "metadata": {},
   "outputs": [],
   "source": [
    "X = df.drop('Corn_Yield', axis=1)\n",
    "y = df['Corn_Yield']"
   ]
  },
  {
   "cell_type": "code",
   "execution_count": 9,
   "id": "ef99336c",
   "metadata": {},
   "outputs": [
    {
     "data": {
      "text/plain": [
       "-9.6632054068574e+23"
      ]
     },
     "execution_count": 9,
     "metadata": {},
     "output_type": "execute_result"
    }
   ],
   "source": [
    "X_train, X_test, y_train, y_test = train_test_split(X,y)\n",
    "reg = LinearRegression().fit(X_train, y_train)\n",
    "reg.score(X_test, y_test)"
   ]
  },
  {
   "cell_type": "code",
   "execution_count": 20,
   "id": "d26ae414",
   "metadata": {},
   "outputs": [
    {
     "data": {
      "text/plain": [
       "0.7802685307010611"
      ]
     },
     "execution_count": 20,
     "metadata": {},
     "output_type": "execute_result"
    }
   ],
   "source": [
    "X_train, X_test, y_train, y_test = train_test_split(X,y)\n",
    "reg = MLPRegressor().fit(X_train, y_train)\n",
    "reg.score(X_test, y_test)"
   ]
  },
  {
   "cell_type": "code",
   "execution_count": 11,
   "id": "e0dc73de",
   "metadata": {},
   "outputs": [],
   "source": [
    "pca = PCA(n_components=128)"
   ]
  },
  {
   "cell_type": "code",
   "execution_count": 12,
   "id": "26b3eb07",
   "metadata": {},
   "outputs": [
    {
     "data": {
      "text/html": [
       "<style>#sk-container-id-1 {color: black;background-color: white;}#sk-container-id-1 pre{padding: 0;}#sk-container-id-1 div.sk-toggleable {background-color: white;}#sk-container-id-1 label.sk-toggleable__label {cursor: pointer;display: block;width: 100%;margin-bottom: 0;padding: 0.3em;box-sizing: border-box;text-align: center;}#sk-container-id-1 label.sk-toggleable__label-arrow:before {content: \"▸\";float: left;margin-right: 0.25em;color: #696969;}#sk-container-id-1 label.sk-toggleable__label-arrow:hover:before {color: black;}#sk-container-id-1 div.sk-estimator:hover label.sk-toggleable__label-arrow:before {color: black;}#sk-container-id-1 div.sk-toggleable__content {max-height: 0;max-width: 0;overflow: hidden;text-align: left;background-color: #f0f8ff;}#sk-container-id-1 div.sk-toggleable__content pre {margin: 0.2em;color: black;border-radius: 0.25em;background-color: #f0f8ff;}#sk-container-id-1 input.sk-toggleable__control:checked~div.sk-toggleable__content {max-height: 200px;max-width: 100%;overflow: auto;}#sk-container-id-1 input.sk-toggleable__control:checked~label.sk-toggleable__label-arrow:before {content: \"▾\";}#sk-container-id-1 div.sk-estimator input.sk-toggleable__control:checked~label.sk-toggleable__label {background-color: #d4ebff;}#sk-container-id-1 div.sk-label input.sk-toggleable__control:checked~label.sk-toggleable__label {background-color: #d4ebff;}#sk-container-id-1 input.sk-hidden--visually {border: 0;clip: rect(1px 1px 1px 1px);clip: rect(1px, 1px, 1px, 1px);height: 1px;margin: -1px;overflow: hidden;padding: 0;position: absolute;width: 1px;}#sk-container-id-1 div.sk-estimator {font-family: monospace;background-color: #f0f8ff;border: 1px dotted black;border-radius: 0.25em;box-sizing: border-box;margin-bottom: 0.5em;}#sk-container-id-1 div.sk-estimator:hover {background-color: #d4ebff;}#sk-container-id-1 div.sk-parallel-item::after {content: \"\";width: 100%;border-bottom: 1px solid gray;flex-grow: 1;}#sk-container-id-1 div.sk-label:hover label.sk-toggleable__label {background-color: #d4ebff;}#sk-container-id-1 div.sk-serial::before {content: \"\";position: absolute;border-left: 1px solid gray;box-sizing: border-box;top: 0;bottom: 0;left: 50%;z-index: 0;}#sk-container-id-1 div.sk-serial {display: flex;flex-direction: column;align-items: center;background-color: white;padding-right: 0.2em;padding-left: 0.2em;position: relative;}#sk-container-id-1 div.sk-item {position: relative;z-index: 1;}#sk-container-id-1 div.sk-parallel {display: flex;align-items: stretch;justify-content: center;background-color: white;position: relative;}#sk-container-id-1 div.sk-item::before, #sk-container-id-1 div.sk-parallel-item::before {content: \"\";position: absolute;border-left: 1px solid gray;box-sizing: border-box;top: 0;bottom: 0;left: 50%;z-index: -1;}#sk-container-id-1 div.sk-parallel-item {display: flex;flex-direction: column;z-index: 1;position: relative;background-color: white;}#sk-container-id-1 div.sk-parallel-item:first-child::after {align-self: flex-end;width: 50%;}#sk-container-id-1 div.sk-parallel-item:last-child::after {align-self: flex-start;width: 50%;}#sk-container-id-1 div.sk-parallel-item:only-child::after {width: 0;}#sk-container-id-1 div.sk-dashed-wrapped {border: 1px dashed gray;margin: 0 0.4em 0.5em 0.4em;box-sizing: border-box;padding-bottom: 0.4em;background-color: white;}#sk-container-id-1 div.sk-label label {font-family: monospace;font-weight: bold;display: inline-block;line-height: 1.2em;}#sk-container-id-1 div.sk-label-container {text-align: center;}#sk-container-id-1 div.sk-container {/* jupyter's `normalize.less` sets `[hidden] { display: none; }` but bootstrap.min.css set `[hidden] { display: none !important; }` so we also need the `!important` here to be able to override the default hidden behavior on the sphinx rendered scikit-learn.org. See: https://github.com/scikit-learn/scikit-learn/issues/21755 */display: inline-block !important;position: relative;}#sk-container-id-1 div.sk-text-repr-fallback {display: none;}</style><div id=\"sk-container-id-1\" class=\"sk-top-container\"><div class=\"sk-text-repr-fallback\"><pre>PCA(n_components=128)</pre><b>In a Jupyter environment, please rerun this cell to show the HTML representation or trust the notebook. <br />On GitHub, the HTML representation is unable to render, please try loading this page with nbviewer.org.</b></div><div class=\"sk-container\" hidden><div class=\"sk-item\"><div class=\"sk-estimator sk-toggleable\"><input class=\"sk-toggleable__control sk-hidden--visually\" id=\"sk-estimator-id-1\" type=\"checkbox\" checked><label for=\"sk-estimator-id-1\" class=\"sk-toggleable__label sk-toggleable__label-arrow\">PCA</label><div class=\"sk-toggleable__content\"><pre>PCA(n_components=128)</pre></div></div></div></div></div>"
      ],
      "text/plain": [
       "PCA(n_components=128)"
      ]
     },
     "execution_count": 12,
     "metadata": {},
     "output_type": "execute_result"
    }
   ],
   "source": [
    "pca.fit(X)"
   ]
  },
  {
   "cell_type": "code",
   "execution_count": 13,
   "id": "3557282b",
   "metadata": {},
   "outputs": [
    {
     "data": {
      "text/plain": [
       "0.9945872751108589"
      ]
     },
     "execution_count": 13,
     "metadata": {},
     "output_type": "execute_result"
    }
   ],
   "source": [
    "sum(pca.explained_variance_ratio_)"
   ]
  },
  {
   "cell_type": "code",
   "execution_count": 14,
   "id": "a791064d",
   "metadata": {},
   "outputs": [
    {
     "data": {
      "text/plain": [
       "array([1020.58755089,  954.87380084,  619.88907669,  580.82506328,\n",
       "        556.47746343,  531.63167407,  525.06035426,  515.23905608,\n",
       "        481.55768636,  470.46370962,  458.91337439,  450.98349924,\n",
       "        429.85631378,  423.52767495,  415.09208621,  410.15259363,\n",
       "        404.6075773 ,  392.44186303,  388.1925321 ,  378.19121994,\n",
       "        368.83452896,  361.66856754,  359.1539746 ,  354.065255  ,\n",
       "        348.55888966,  336.00509498,  334.80222891,  330.25502708,\n",
       "        323.26688245,  321.6718122 ,  318.83953465,  316.93204206,\n",
       "        308.19541787,  304.59782823,  301.01949301,  296.93416141,\n",
       "        293.89422721,  283.36965003,  280.87542361,  278.82151084,\n",
       "        276.15384167,  270.0718826 ,  268.81973068,  263.62931952,\n",
       "        262.50679466,  256.88978509,  254.55805327,  252.6231022 ,\n",
       "        250.25284481,  245.35022128,  241.53739195,  239.94824182,\n",
       "        236.69803468,  233.74609242,  232.55699727,  224.46898845,\n",
       "        220.79609458,  219.74302898,  215.57729552,  214.71164119,\n",
       "        209.90559859,  208.20447447,  206.29853681,  202.57074704,\n",
       "        197.62375277,  193.39609115,  191.08638899,  188.06189224,\n",
       "        184.96105393,  183.49212294,  182.48211723,  179.51064491,\n",
       "        174.01874035,  173.86558316,  173.40605295,  169.4984778 ,\n",
       "        165.1112821 ,  162.89566966,  159.39261829,  157.99672722,\n",
       "        156.92441719,  150.28114169,  149.1675219 ,  146.73434666,\n",
       "        144.21594723,  139.96537299,  137.57569636,  135.89413803,\n",
       "        133.52012024,  130.38171004,  127.60022601,  126.90278467,\n",
       "        124.72394667,  123.17256704,  121.2760335 ,  119.14440332,\n",
       "        117.98451669,  116.494709  ,  115.55058745,  113.70108965,\n",
       "        110.93342167,  108.10774022,  106.80433618,  105.50658247,\n",
       "        104.7235858 ,  102.71584547,  100.96596219,   99.32815235,\n",
       "         98.4620709 ,   96.0520382 ,   95.28421104,   92.15415433,\n",
       "         91.70223614,   89.15889412,   87.86403832,   86.68387227,\n",
       "         84.4094623 ,   80.98034128,   80.55066822,   79.43996118,\n",
       "         76.55545989,   76.41553915,   74.60699482,   72.56218452,\n",
       "         70.89779246,   69.43759872,   68.09671471,   67.54382719])"
      ]
     },
     "execution_count": 14,
     "metadata": {},
     "output_type": "execute_result"
    }
   ],
   "source": [
    "pca.singular_values_"
   ]
  },
  {
   "cell_type": "code",
   "execution_count": 15,
   "id": "ac65274f",
   "metadata": {},
   "outputs": [],
   "source": [
    "X_pca = np.asarray(pca.transform(X))"
   ]
  },
  {
   "cell_type": "code",
   "execution_count": 16,
   "id": "4e009893",
   "metadata": {},
   "outputs": [
    {
     "data": {
      "text/plain": [
       "-0.3706979050450019"
      ]
     },
     "execution_count": 16,
     "metadata": {},
     "output_type": "execute_result"
    }
   ],
   "source": [
    "X_train, X_test, y_train, y_test = train_test_split(X_pca,y)\n",
    "reg = LinearRegression().fit(X_train, y_train)\n",
    "reg.score(X_test, y_test)"
   ]
  },
  {
   "cell_type": "code",
   "execution_count": 17,
   "id": "ae4b2e8d",
   "metadata": {},
   "outputs": [
    {
     "name": "stderr",
     "output_type": "stream",
     "text": [
      "C:\\Users\\peter\\AppData\\Local\\Programs\\Python\\Python39\\lib\\site-packages\\sklearn\\neural_network\\_multilayer_perceptron.py:684: ConvergenceWarning: Stochastic Optimizer: Maximum iterations (200) reached and the optimization hasn't converged yet.\n",
      "  warnings.warn(\n"
     ]
    },
    {
     "data": {
      "text/plain": [
       "0.789115878906048"
      ]
     },
     "execution_count": 17,
     "metadata": {},
     "output_type": "execute_result"
    }
   ],
   "source": [
    "X_train, X_test, y_train, y_test = train_test_split(X_pca,y)\n",
    "reg = MLPRegressor().fit(X_train, y_train)\n",
    "reg.score(X_test, y_test)"
   ]
  },
  {
   "cell_type": "code",
   "execution_count": 21,
   "id": "d3ef82f9",
   "metadata": {},
   "outputs": [
    {
     "name": "stderr",
     "output_type": "stream",
     "text": [
      "C:\\Users\\peter\\AppData\\Local\\Programs\\Python\\Python39\\lib\\site-packages\\sklearn\\neural_network\\_multilayer_perceptron.py:684: ConvergenceWarning: Stochastic Optimizer: Maximum iterations (200) reached and the optimization hasn't converged yet.\n",
      "  warnings.warn(\n",
      "C:\\Users\\peter\\AppData\\Local\\Programs\\Python\\Python39\\lib\\site-packages\\sklearn\\neural_network\\_multilayer_perceptron.py:684: ConvergenceWarning: Stochastic Optimizer: Maximum iterations (200) reached and the optimization hasn't converged yet.\n",
      "  warnings.warn(\n"
     ]
    },
    {
     "data": {
      "text/plain": [
       "array([0.8670972 , 0.92700892, 0.86940219, 0.83686395, 0.72172603])"
      ]
     },
     "execution_count": 21,
     "metadata": {},
     "output_type": "execute_result"
    }
   ],
   "source": [
    "scores = cross_val_score(reg, X, y, cv=5)\n",
    "scores"
   ]
  },
  {
   "cell_type": "code",
   "execution_count": 22,
   "id": "6ad8c220",
   "metadata": {},
   "outputs": [
    {
     "data": {
      "text/plain": [
       "0.844419657066832"
      ]
     },
     "execution_count": 22,
     "metadata": {},
     "output_type": "execute_result"
    }
   ],
   "source": [
    "scores.mean()"
   ]
  },
  {
   "cell_type": "code",
   "execution_count": null,
   "id": "8c365840",
   "metadata": {},
   "outputs": [],
   "source": []
  }
 ],
 "metadata": {
  "kernelspec": {
   "display_name": "Python 3 (ipykernel)",
   "language": "python",
   "name": "python3"
  },
  "language_info": {
   "codemirror_mode": {
    "name": "ipython",
    "version": 3
   },
   "file_extension": ".py",
   "mimetype": "text/x-python",
   "name": "python",
   "nbconvert_exporter": "python",
   "pygments_lexer": "ipython3",
   "version": "3.9.13"
  }
 },
 "nbformat": 4,
 "nbformat_minor": 5
}
