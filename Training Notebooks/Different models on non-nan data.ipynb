{
 "cells": [
  {
   "cell_type": "code",
   "execution_count": 1,
   "id": "de30aeea",
   "metadata": {},
   "outputs": [],
   "source": [
    "import pandas as pd\n",
    "import numpy as np\n",
    "from sklearn.linear_model import LinearRegression\n",
    "from sklearn.model_selection import train_test_split\n",
    "from sklearn.decomposition import PCA\n",
    "from sklearn.neural_network import MLPRegressor\n",
    "from sklearn.model_selection import cross_val_score"
   ]
  },
  {
   "cell_type": "code",
   "execution_count": 2,
   "id": "a5a33782",
   "metadata": {},
   "outputs": [],
   "source": [
    "df = pd.read_csv('../data/agri/Saska_stuff/united_data_soybean.csv', index_col=0)"
   ]
  },
  {
   "cell_type": "code",
   "execution_count": 3,
   "id": "7635ab58",
   "metadata": {},
   "outputs": [
    {
     "data": {
      "text/html": [
       "<div>\n",
       "<style scoped>\n",
       "    .dataframe tbody tr th:only-of-type {\n",
       "        vertical-align: middle;\n",
       "    }\n",
       "\n",
       "    .dataframe tbody tr th {\n",
       "        vertical-align: top;\n",
       "    }\n",
       "\n",
       "    .dataframe thead th {\n",
       "        text-align: right;\n",
       "    }\n",
       "</style>\n",
       "<table border=\"1\" class=\"dataframe\">\n",
       "  <thead>\n",
       "    <tr style=\"text-align: right;\">\n",
       "      <th></th>\n",
       "      <th>01-01-avg</th>\n",
       "      <th>01-01-min</th>\n",
       "      <th>01-01-max</th>\n",
       "      <th>01-01-prec</th>\n",
       "      <th>01-02-avg</th>\n",
       "      <th>01-02-min</th>\n",
       "      <th>01-02-max</th>\n",
       "      <th>01-02-prec</th>\n",
       "      <th>01-03-avg</th>\n",
       "      <th>01-03-min</th>\n",
       "      <th>...</th>\n",
       "      <th>09-27-prec</th>\n",
       "      <th>09-28-avg</th>\n",
       "      <th>09-28-min</th>\n",
       "      <th>09-28-max</th>\n",
       "      <th>09-28-prec</th>\n",
       "      <th>09-30-avg</th>\n",
       "      <th>09-30-min</th>\n",
       "      <th>09-30-max</th>\n",
       "      <th>09-30-prec</th>\n",
       "      <th>Soybean_Yield</th>\n",
       "    </tr>\n",
       "  </thead>\n",
       "  <tbody>\n",
       "    <tr>\n",
       "      <th>2016-Red Lake County</th>\n",
       "      <td>-8.3</td>\n",
       "      <td>-12.0</td>\n",
       "      <td>-5.0</td>\n",
       "      <td>NaN</td>\n",
       "      <td>-6.8</td>\n",
       "      <td>-12.0</td>\n",
       "      <td>-3.0</td>\n",
       "      <td>NaN</td>\n",
       "      <td>-9.0</td>\n",
       "      <td>-16.0</td>\n",
       "      <td>...</td>\n",
       "      <td>NaN</td>\n",
       "      <td>10.7</td>\n",
       "      <td>4.0</td>\n",
       "      <td>16.0</td>\n",
       "      <td>NaN</td>\n",
       "      <td>13.2</td>\n",
       "      <td>8.0</td>\n",
       "      <td>21.0</td>\n",
       "      <td>NaN</td>\n",
       "      <td>44.5</td>\n",
       "    </tr>\n",
       "    <tr>\n",
       "      <th>2017-Red Lake County</th>\n",
       "      <td>-7.5</td>\n",
       "      <td>-9.0</td>\n",
       "      <td>-5.0</td>\n",
       "      <td>NaN</td>\n",
       "      <td>-8.9</td>\n",
       "      <td>-10.0</td>\n",
       "      <td>-8.0</td>\n",
       "      <td>NaN</td>\n",
       "      <td>-18.0</td>\n",
       "      <td>-24.0</td>\n",
       "      <td>...</td>\n",
       "      <td>NaN</td>\n",
       "      <td>12.5</td>\n",
       "      <td>8.0</td>\n",
       "      <td>20.0</td>\n",
       "      <td>NaN</td>\n",
       "      <td>14.1</td>\n",
       "      <td>7.0</td>\n",
       "      <td>22.0</td>\n",
       "      <td>NaN</td>\n",
       "      <td>38.6</td>\n",
       "    </tr>\n",
       "    <tr>\n",
       "      <th>2018-Red Lake County</th>\n",
       "      <td>-26.0</td>\n",
       "      <td>-30.0</td>\n",
       "      <td>-22.0</td>\n",
       "      <td>NaN</td>\n",
       "      <td>-17.9</td>\n",
       "      <td>-24.0</td>\n",
       "      <td>-11.0</td>\n",
       "      <td>NaN</td>\n",
       "      <td>-21.0</td>\n",
       "      <td>-23.0</td>\n",
       "      <td>...</td>\n",
       "      <td>NaN</td>\n",
       "      <td>3.0</td>\n",
       "      <td>-3.0</td>\n",
       "      <td>6.0</td>\n",
       "      <td>NaN</td>\n",
       "      <td>4.4</td>\n",
       "      <td>-1.0</td>\n",
       "      <td>8.0</td>\n",
       "      <td>NaN</td>\n",
       "      <td>38.0</td>\n",
       "    </tr>\n",
       "    <tr>\n",
       "      <th>2019-Red Lake County</th>\n",
       "      <td>NaN</td>\n",
       "      <td>NaN</td>\n",
       "      <td>NaN</td>\n",
       "      <td>NaN</td>\n",
       "      <td>NaN</td>\n",
       "      <td>NaN</td>\n",
       "      <td>NaN</td>\n",
       "      <td>NaN</td>\n",
       "      <td>NaN</td>\n",
       "      <td>NaN</td>\n",
       "      <td>...</td>\n",
       "      <td>NaN</td>\n",
       "      <td>9.3</td>\n",
       "      <td>4.0</td>\n",
       "      <td>13.0</td>\n",
       "      <td>NaN</td>\n",
       "      <td>9.0</td>\n",
       "      <td>6.0</td>\n",
       "      <td>11.0</td>\n",
       "      <td>NaN</td>\n",
       "      <td>36.7</td>\n",
       "    </tr>\n",
       "    <tr>\n",
       "      <th>2020-Red Lake County</th>\n",
       "      <td>-5.8</td>\n",
       "      <td>-12.0</td>\n",
       "      <td>-1.0</td>\n",
       "      <td>NaN</td>\n",
       "      <td>-3.8</td>\n",
       "      <td>-5.0</td>\n",
       "      <td>-1.0</td>\n",
       "      <td>NaN</td>\n",
       "      <td>-4.2</td>\n",
       "      <td>-7.0</td>\n",
       "      <td>...</td>\n",
       "      <td>NaN</td>\n",
       "      <td>10.3</td>\n",
       "      <td>7.0</td>\n",
       "      <td>13.0</td>\n",
       "      <td>NaN</td>\n",
       "      <td>8.9</td>\n",
       "      <td>5.0</td>\n",
       "      <td>13.0</td>\n",
       "      <td>NaN</td>\n",
       "      <td>36.0</td>\n",
       "    </tr>\n",
       "    <tr>\n",
       "      <th>...</th>\n",
       "      <td>...</td>\n",
       "      <td>...</td>\n",
       "      <td>...</td>\n",
       "      <td>...</td>\n",
       "      <td>...</td>\n",
       "      <td>...</td>\n",
       "      <td>...</td>\n",
       "      <td>...</td>\n",
       "      <td>...</td>\n",
       "      <td>...</td>\n",
       "      <td>...</td>\n",
       "      <td>...</td>\n",
       "      <td>...</td>\n",
       "      <td>...</td>\n",
       "      <td>...</td>\n",
       "      <td>...</td>\n",
       "      <td>...</td>\n",
       "      <td>...</td>\n",
       "      <td>...</td>\n",
       "      <td>...</td>\n",
       "      <td>...</td>\n",
       "    </tr>\n",
       "    <tr>\n",
       "      <th>2011-Jackson County</th>\n",
       "      <td>-15.8</td>\n",
       "      <td>-19.0</td>\n",
       "      <td>-13.0</td>\n",
       "      <td>16.146545</td>\n",
       "      <td>-11.5</td>\n",
       "      <td>-17.0</td>\n",
       "      <td>-6.0</td>\n",
       "      <td>16.155809</td>\n",
       "      <td>-6.3</td>\n",
       "      <td>-16.0</td>\n",
       "      <td>...</td>\n",
       "      <td>18.527259</td>\n",
       "      <td>16.9</td>\n",
       "      <td>7.0</td>\n",
       "      <td>28.0</td>\n",
       "      <td>18.536522</td>\n",
       "      <td>10.7</td>\n",
       "      <td>5.0</td>\n",
       "      <td>18.0</td>\n",
       "      <td>18.555049</td>\n",
       "      <td>45.7</td>\n",
       "    </tr>\n",
       "    <tr>\n",
       "      <th>2012-Jackson County</th>\n",
       "      <td>-3.3</td>\n",
       "      <td>-6.0</td>\n",
       "      <td>0.0</td>\n",
       "      <td>19.370235</td>\n",
       "      <td>-9.3</td>\n",
       "      <td>-13.0</td>\n",
       "      <td>-7.0</td>\n",
       "      <td>19.379499</td>\n",
       "      <td>-5.6</td>\n",
       "      <td>-13.0</td>\n",
       "      <td>...</td>\n",
       "      <td>21.732422</td>\n",
       "      <td>NaN</td>\n",
       "      <td>NaN</td>\n",
       "      <td>NaN</td>\n",
       "      <td>NaN</td>\n",
       "      <td>18.5</td>\n",
       "      <td>12.0</td>\n",
       "      <td>27.0</td>\n",
       "      <td>21.750949</td>\n",
       "      <td>48.0</td>\n",
       "    </tr>\n",
       "    <tr>\n",
       "      <th>2013-Jackson County</th>\n",
       "      <td>-11.8</td>\n",
       "      <td>-22.0</td>\n",
       "      <td>-7.0</td>\n",
       "      <td>22.603189</td>\n",
       "      <td>-5.6</td>\n",
       "      <td>-12.0</td>\n",
       "      <td>0.0</td>\n",
       "      <td>22.612453</td>\n",
       "      <td>-10.3</td>\n",
       "      <td>-14.0</td>\n",
       "      <td>...</td>\n",
       "      <td>24.844951</td>\n",
       "      <td>16.2</td>\n",
       "      <td>9.0</td>\n",
       "      <td>22.0</td>\n",
       "      <td>24.854214</td>\n",
       "      <td>19.8</td>\n",
       "      <td>15.0</td>\n",
       "      <td>27.0</td>\n",
       "      <td>24.872741</td>\n",
       "      <td>47.1</td>\n",
       "    </tr>\n",
       "    <tr>\n",
       "      <th>2014-Jackson County</th>\n",
       "      <td>-19.0</td>\n",
       "      <td>-21.0</td>\n",
       "      <td>-18.0</td>\n",
       "      <td>25.678664</td>\n",
       "      <td>-22.3</td>\n",
       "      <td>-25.0</td>\n",
       "      <td>-18.0</td>\n",
       "      <td>25.687927</td>\n",
       "      <td>-9.4</td>\n",
       "      <td>-23.0</td>\n",
       "      <td>...</td>\n",
       "      <td>28.003797</td>\n",
       "      <td>19.9</td>\n",
       "      <td>13.0</td>\n",
       "      <td>27.0</td>\n",
       "      <td>28.013060</td>\n",
       "      <td>12.2</td>\n",
       "      <td>8.0</td>\n",
       "      <td>17.0</td>\n",
       "      <td>28.031587</td>\n",
       "      <td>46.9</td>\n",
       "    </tr>\n",
       "    <tr>\n",
       "      <th>2015-Jackson County</th>\n",
       "      <td>-5.1</td>\n",
       "      <td>-11.0</td>\n",
       "      <td>0.0</td>\n",
       "      <td>28.865300</td>\n",
       "      <td>-4.7</td>\n",
       "      <td>-7.0</td>\n",
       "      <td>-2.0</td>\n",
       "      <td>28.874563</td>\n",
       "      <td>-7.3</td>\n",
       "      <td>-16.0</td>\n",
       "      <td>...</td>\n",
       "      <td>31.264541</td>\n",
       "      <td>20.1</td>\n",
       "      <td>16.0</td>\n",
       "      <td>25.0</td>\n",
       "      <td>31.273804</td>\n",
       "      <td>10.3</td>\n",
       "      <td>2.0</td>\n",
       "      <td>19.0</td>\n",
       "      <td>31.292331</td>\n",
       "      <td>56.7</td>\n",
       "    </tr>\n",
       "  </tbody>\n",
       "</table>\n",
       "<p>1229 rows × 889 columns</p>\n",
       "</div>"
      ],
      "text/plain": [
       "                      01-01-avg  01-01-min  01-01-max  01-01-prec  01-02-avg  \\\n",
       "2016-Red Lake County       -8.3      -12.0       -5.0         NaN       -6.8   \n",
       "2017-Red Lake County       -7.5       -9.0       -5.0         NaN       -8.9   \n",
       "2018-Red Lake County      -26.0      -30.0      -22.0         NaN      -17.9   \n",
       "2019-Red Lake County        NaN        NaN        NaN         NaN        NaN   \n",
       "2020-Red Lake County       -5.8      -12.0       -1.0         NaN       -3.8   \n",
       "...                         ...        ...        ...         ...        ...   \n",
       "2011-Jackson County       -15.8      -19.0      -13.0   16.146545      -11.5   \n",
       "2012-Jackson County        -3.3       -6.0        0.0   19.370235       -9.3   \n",
       "2013-Jackson County       -11.8      -22.0       -7.0   22.603189       -5.6   \n",
       "2014-Jackson County       -19.0      -21.0      -18.0   25.678664      -22.3   \n",
       "2015-Jackson County        -5.1      -11.0        0.0   28.865300       -4.7   \n",
       "\n",
       "                      01-02-min  01-02-max  01-02-prec  01-03-avg  01-03-min  \\\n",
       "2016-Red Lake County      -12.0       -3.0         NaN       -9.0      -16.0   \n",
       "2017-Red Lake County      -10.0       -8.0         NaN      -18.0      -24.0   \n",
       "2018-Red Lake County      -24.0      -11.0         NaN      -21.0      -23.0   \n",
       "2019-Red Lake County        NaN        NaN         NaN        NaN        NaN   \n",
       "2020-Red Lake County       -5.0       -1.0         NaN       -4.2       -7.0   \n",
       "...                         ...        ...         ...        ...        ...   \n",
       "2011-Jackson County       -17.0       -6.0   16.155809       -6.3      -16.0   \n",
       "2012-Jackson County       -13.0       -7.0   19.379499       -5.6      -13.0   \n",
       "2013-Jackson County       -12.0        0.0   22.612453      -10.3      -14.0   \n",
       "2014-Jackson County       -25.0      -18.0   25.687927       -9.4      -23.0   \n",
       "2015-Jackson County        -7.0       -2.0   28.874563       -7.3      -16.0   \n",
       "\n",
       "                      ...  09-27-prec  09-28-avg  09-28-min  09-28-max  \\\n",
       "2016-Red Lake County  ...         NaN       10.7        4.0       16.0   \n",
       "2017-Red Lake County  ...         NaN       12.5        8.0       20.0   \n",
       "2018-Red Lake County  ...         NaN        3.0       -3.0        6.0   \n",
       "2019-Red Lake County  ...         NaN        9.3        4.0       13.0   \n",
       "2020-Red Lake County  ...         NaN       10.3        7.0       13.0   \n",
       "...                   ...         ...        ...        ...        ...   \n",
       "2011-Jackson County   ...   18.527259       16.9        7.0       28.0   \n",
       "2012-Jackson County   ...   21.732422        NaN        NaN        NaN   \n",
       "2013-Jackson County   ...   24.844951       16.2        9.0       22.0   \n",
       "2014-Jackson County   ...   28.003797       19.9       13.0       27.0   \n",
       "2015-Jackson County   ...   31.264541       20.1       16.0       25.0   \n",
       "\n",
       "                      09-28-prec  09-30-avg  09-30-min  09-30-max  09-30-prec  \\\n",
       "2016-Red Lake County         NaN       13.2        8.0       21.0         NaN   \n",
       "2017-Red Lake County         NaN       14.1        7.0       22.0         NaN   \n",
       "2018-Red Lake County         NaN        4.4       -1.0        8.0         NaN   \n",
       "2019-Red Lake County         NaN        9.0        6.0       11.0         NaN   \n",
       "2020-Red Lake County         NaN        8.9        5.0       13.0         NaN   \n",
       "...                          ...        ...        ...        ...         ...   \n",
       "2011-Jackson County    18.536522       10.7        5.0       18.0   18.555049   \n",
       "2012-Jackson County          NaN       18.5       12.0       27.0   21.750949   \n",
       "2013-Jackson County    24.854214       19.8       15.0       27.0   24.872741   \n",
       "2014-Jackson County    28.013060       12.2        8.0       17.0   28.031587   \n",
       "2015-Jackson County    31.273804       10.3        2.0       19.0   31.292331   \n",
       "\n",
       "                      Soybean_Yield  \n",
       "2016-Red Lake County           44.5  \n",
       "2017-Red Lake County           38.6  \n",
       "2018-Red Lake County           38.0  \n",
       "2019-Red Lake County           36.7  \n",
       "2020-Red Lake County           36.0  \n",
       "...                             ...  \n",
       "2011-Jackson County            45.7  \n",
       "2012-Jackson County            48.0  \n",
       "2013-Jackson County            47.1  \n",
       "2014-Jackson County            46.9  \n",
       "2015-Jackson County            56.7  \n",
       "\n",
       "[1229 rows x 889 columns]"
      ]
     },
     "execution_count": 3,
     "metadata": {},
     "output_type": "execute_result"
    }
   ],
   "source": [
    "df"
   ]
  },
  {
   "cell_type": "code",
   "execution_count": 4,
   "id": "c80adc46",
   "metadata": {},
   "outputs": [],
   "source": [
    "df = df.dropna()"
   ]
  },
  {
   "cell_type": "code",
   "execution_count": 5,
   "id": "9494d4b2",
   "metadata": {},
   "outputs": [],
   "source": [
    "X = df.drop('Soybean_Yield', axis=1)\n",
    "y = df['Soybean_Yield']"
   ]
  },
  {
   "cell_type": "code",
   "execution_count": 6,
   "id": "ef99336c",
   "metadata": {},
   "outputs": [
    {
     "data": {
      "text/plain": [
       "-9.713063187994754e+21"
      ]
     },
     "execution_count": 6,
     "metadata": {},
     "output_type": "execute_result"
    }
   ],
   "source": [
    "X_train, X_test, y_train, y_test = train_test_split(X,y)\n",
    "reg = LinearRegression().fit(X_train, y_train)\n",
    "reg.score(X_test, y_test)"
   ]
  },
  {
   "cell_type": "code",
   "execution_count": 7,
   "id": "d26ae414",
   "metadata": {},
   "outputs": [
    {
     "name": "stderr",
     "output_type": "stream",
     "text": [
      "c:\\Users\\Attila\\AppData\\Local\\Programs\\Python\\Python39\\lib\\site-packages\\sklearn\\neural_network\\_multilayer_perceptron.py:686: ConvergenceWarning: Stochastic Optimizer: Maximum iterations (200) reached and the optimization hasn't converged yet.\n",
      "  warnings.warn(\n"
     ]
    },
    {
     "data": {
      "text/plain": [
       "0.8399574139861463"
      ]
     },
     "execution_count": 7,
     "metadata": {},
     "output_type": "execute_result"
    }
   ],
   "source": [
    "X_train, X_test, y_train, y_test = train_test_split(X,y)\n",
    "reg = MLPRegressor().fit(X_train, y_train)\n",
    "reg.score(X_test, y_test)"
   ]
  },
  {
   "cell_type": "code",
   "execution_count": 8,
   "id": "e0dc73de",
   "metadata": {},
   "outputs": [],
   "source": [
    "pca = PCA(n_components=128)"
   ]
  },
  {
   "cell_type": "code",
   "execution_count": 9,
   "id": "26b3eb07",
   "metadata": {},
   "outputs": [
    {
     "data": {
      "text/html": [
       "<style>#sk-container-id-1 {color: black;background-color: white;}#sk-container-id-1 pre{padding: 0;}#sk-container-id-1 div.sk-toggleable {background-color: white;}#sk-container-id-1 label.sk-toggleable__label {cursor: pointer;display: block;width: 100%;margin-bottom: 0;padding: 0.3em;box-sizing: border-box;text-align: center;}#sk-container-id-1 label.sk-toggleable__label-arrow:before {content: \"▸\";float: left;margin-right: 0.25em;color: #696969;}#sk-container-id-1 label.sk-toggleable__label-arrow:hover:before {color: black;}#sk-container-id-1 div.sk-estimator:hover label.sk-toggleable__label-arrow:before {color: black;}#sk-container-id-1 div.sk-toggleable__content {max-height: 0;max-width: 0;overflow: hidden;text-align: left;background-color: #f0f8ff;}#sk-container-id-1 div.sk-toggleable__content pre {margin: 0.2em;color: black;border-radius: 0.25em;background-color: #f0f8ff;}#sk-container-id-1 input.sk-toggleable__control:checked~div.sk-toggleable__content {max-height: 200px;max-width: 100%;overflow: auto;}#sk-container-id-1 input.sk-toggleable__control:checked~label.sk-toggleable__label-arrow:before {content: \"▾\";}#sk-container-id-1 div.sk-estimator input.sk-toggleable__control:checked~label.sk-toggleable__label {background-color: #d4ebff;}#sk-container-id-1 div.sk-label input.sk-toggleable__control:checked~label.sk-toggleable__label {background-color: #d4ebff;}#sk-container-id-1 input.sk-hidden--visually {border: 0;clip: rect(1px 1px 1px 1px);clip: rect(1px, 1px, 1px, 1px);height: 1px;margin: -1px;overflow: hidden;padding: 0;position: absolute;width: 1px;}#sk-container-id-1 div.sk-estimator {font-family: monospace;background-color: #f0f8ff;border: 1px dotted black;border-radius: 0.25em;box-sizing: border-box;margin-bottom: 0.5em;}#sk-container-id-1 div.sk-estimator:hover {background-color: #d4ebff;}#sk-container-id-1 div.sk-parallel-item::after {content: \"\";width: 100%;border-bottom: 1px solid gray;flex-grow: 1;}#sk-container-id-1 div.sk-label:hover label.sk-toggleable__label {background-color: #d4ebff;}#sk-container-id-1 div.sk-serial::before {content: \"\";position: absolute;border-left: 1px solid gray;box-sizing: border-box;top: 0;bottom: 0;left: 50%;z-index: 0;}#sk-container-id-1 div.sk-serial {display: flex;flex-direction: column;align-items: center;background-color: white;padding-right: 0.2em;padding-left: 0.2em;position: relative;}#sk-container-id-1 div.sk-item {position: relative;z-index: 1;}#sk-container-id-1 div.sk-parallel {display: flex;align-items: stretch;justify-content: center;background-color: white;position: relative;}#sk-container-id-1 div.sk-item::before, #sk-container-id-1 div.sk-parallel-item::before {content: \"\";position: absolute;border-left: 1px solid gray;box-sizing: border-box;top: 0;bottom: 0;left: 50%;z-index: -1;}#sk-container-id-1 div.sk-parallel-item {display: flex;flex-direction: column;z-index: 1;position: relative;background-color: white;}#sk-container-id-1 div.sk-parallel-item:first-child::after {align-self: flex-end;width: 50%;}#sk-container-id-1 div.sk-parallel-item:last-child::after {align-self: flex-start;width: 50%;}#sk-container-id-1 div.sk-parallel-item:only-child::after {width: 0;}#sk-container-id-1 div.sk-dashed-wrapped {border: 1px dashed gray;margin: 0 0.4em 0.5em 0.4em;box-sizing: border-box;padding-bottom: 0.4em;background-color: white;}#sk-container-id-1 div.sk-label label {font-family: monospace;font-weight: bold;display: inline-block;line-height: 1.2em;}#sk-container-id-1 div.sk-label-container {text-align: center;}#sk-container-id-1 div.sk-container {/* jupyter's `normalize.less` sets `[hidden] { display: none; }` but bootstrap.min.css set `[hidden] { display: none !important; }` so we also need the `!important` here to be able to override the default hidden behavior on the sphinx rendered scikit-learn.org. See: https://github.com/scikit-learn/scikit-learn/issues/21755 */display: inline-block !important;position: relative;}#sk-container-id-1 div.sk-text-repr-fallback {display: none;}</style><div id=\"sk-container-id-1\" class=\"sk-top-container\"><div class=\"sk-text-repr-fallback\"><pre>PCA(n_components=128)</pre><b>In a Jupyter environment, please rerun this cell to show the HTML representation or trust the notebook. <br />On GitHub, the HTML representation is unable to render, please try loading this page with nbviewer.org.</b></div><div class=\"sk-container\" hidden><div class=\"sk-item\"><div class=\"sk-estimator sk-toggleable\"><input class=\"sk-toggleable__control sk-hidden--visually\" id=\"sk-estimator-id-1\" type=\"checkbox\" checked><label for=\"sk-estimator-id-1\" class=\"sk-toggleable__label sk-toggleable__label-arrow\">PCA</label><div class=\"sk-toggleable__content\"><pre>PCA(n_components=128)</pre></div></div></div></div></div>"
      ],
      "text/plain": [
       "PCA(n_components=128)"
      ]
     },
     "execution_count": 9,
     "metadata": {},
     "output_type": "execute_result"
    }
   ],
   "source": [
    "pca.fit(X)"
   ]
  },
  {
   "cell_type": "code",
   "execution_count": 10,
   "id": "3557282b",
   "metadata": {},
   "outputs": [
    {
     "data": {
      "text/plain": [
       "1.0000000000000002"
      ]
     },
     "execution_count": 10,
     "metadata": {},
     "output_type": "execute_result"
    }
   ],
   "source": [
    "sum(pca.explained_variance_ratio_)"
   ]
  },
  {
   "cell_type": "code",
   "execution_count": 11,
   "id": "a791064d",
   "metadata": {},
   "outputs": [
    {
     "data": {
      "text/plain": [
       "array([1.00180917e+03, 7.94426874e+02, 5.52249833e+02, 5.15402477e+02,\n",
       "       5.12403168e+02, 4.88378327e+02, 4.68944061e+02, 4.57893904e+02,\n",
       "       4.42127302e+02, 4.28742217e+02, 4.16683819e+02, 4.14703624e+02,\n",
       "       4.02624472e+02, 3.84608273e+02, 3.82970289e+02, 3.75232855e+02,\n",
       "       3.70219003e+02, 3.67185594e+02, 3.60588306e+02, 3.49283723e+02,\n",
       "       3.38918791e+02, 3.37482297e+02, 3.31860573e+02, 3.27671822e+02,\n",
       "       3.20384334e+02, 3.17260931e+02, 3.07967018e+02, 3.02647711e+02,\n",
       "       3.01079182e+02, 2.98069199e+02, 2.96478981e+02, 2.91399190e+02,\n",
       "       2.88804691e+02, 2.83328872e+02, 2.80024921e+02, 2.74945751e+02,\n",
       "       2.70486939e+02, 2.67155972e+02, 2.63249228e+02, 2.59743991e+02,\n",
       "       2.58917450e+02, 2.57145436e+02, 2.48997521e+02, 2.47217789e+02,\n",
       "       2.43978869e+02, 2.38008447e+02, 2.36118001e+02, 2.34052076e+02,\n",
       "       2.28266030e+02, 2.27663276e+02, 2.24926174e+02, 2.24536636e+02,\n",
       "       2.20068227e+02, 2.15327367e+02, 2.12469393e+02, 2.09204346e+02,\n",
       "       2.05562628e+02, 2.03456754e+02, 2.01452704e+02, 1.98399222e+02,\n",
       "       1.94394826e+02, 1.92253370e+02, 1.87594148e+02, 1.86548377e+02,\n",
       "       1.81583565e+02, 1.80825141e+02, 1.77201099e+02, 1.73472128e+02,\n",
       "       1.70772563e+02, 1.65315790e+02, 1.62603920e+02, 1.59910907e+02,\n",
       "       1.57117972e+02, 1.54509558e+02, 1.45978218e+02, 1.44527492e+02,\n",
       "       1.37567509e+02, 1.34412991e+02, 1.32507366e+02, 1.31373460e+02,\n",
       "       1.28244172e+02, 1.25184563e+02, 1.23364548e+02, 1.18695530e+02,\n",
       "       1.16074340e+02, 1.11144615e+02, 1.07873996e+02, 1.06867904e+02,\n",
       "       1.05515189e+02, 1.01951915e+02, 1.00529869e+02, 9.61253113e+01,\n",
       "       9.43670673e+01, 9.27620655e+01, 8.97717779e+01, 8.88170393e+01,\n",
       "       8.76354556e+01, 8.47509780e+01, 8.12507881e+01, 7.88277343e+01,\n",
       "       7.57521486e+01, 7.51686519e+01, 7.11568243e+01, 6.54072813e+01,\n",
       "       6.37979035e+01, 5.98833923e+01, 5.54116698e+01, 4.26721923e+01,\n",
       "       4.11157654e+01, 3.50293690e+01, 3.40405815e+01, 2.71446959e+01,\n",
       "       2.50072617e+01, 1.84433015e+01, 1.46412154e+01, 1.37484067e+01,\n",
       "       1.26860512e+01, 1.22930505e+01, 1.18529240e+01, 1.07249725e+01,\n",
       "       2.05164783e-13, 1.00099388e-13, 1.00099388e-13, 1.00099388e-13,\n",
       "       1.00099388e-13, 1.00099388e-13, 1.00099388e-13, 1.00099388e-13])"
      ]
     },
     "execution_count": 11,
     "metadata": {},
     "output_type": "execute_result"
    }
   ],
   "source": [
    "pca.singular_values_"
   ]
  },
  {
   "cell_type": "code",
   "execution_count": 12,
   "id": "ac65274f",
   "metadata": {},
   "outputs": [],
   "source": [
    "X_pca = np.asarray(pca.transform(X))"
   ]
  },
  {
   "cell_type": "code",
   "execution_count": 13,
   "id": "4e009893",
   "metadata": {},
   "outputs": [
    {
     "data": {
      "text/plain": [
       "0.8320948196936048"
      ]
     },
     "execution_count": 13,
     "metadata": {},
     "output_type": "execute_result"
    }
   ],
   "source": [
    "X_train, X_test, y_train, y_test = train_test_split(X_pca,y)\n",
    "reg = LinearRegression().fit(X_train, y_train)\n",
    "reg.score(X_test, y_test)"
   ]
  },
  {
   "cell_type": "code",
   "execution_count": 14,
   "id": "ae4b2e8d",
   "metadata": {},
   "outputs": [
    {
     "data": {
      "text/plain": [
       "0.2979816873479598"
      ]
     },
     "execution_count": 14,
     "metadata": {},
     "output_type": "execute_result"
    }
   ],
   "source": [
    "X_train, X_test, y_train, y_test = train_test_split(X_pca,y)\n",
    "reg = MLPRegressor().fit(X_train, y_train)\n",
    "reg.score(X_test, y_test)"
   ]
  },
  {
   "cell_type": "code",
   "execution_count": 21,
   "id": "d3ef82f9",
   "metadata": {},
   "outputs": [
    {
     "name": "stderr",
     "output_type": "stream",
     "text": [
      "C:\\Users\\peter\\AppData\\Local\\Programs\\Python\\Python39\\lib\\site-packages\\sklearn\\neural_network\\_multilayer_perceptron.py:684: ConvergenceWarning: Stochastic Optimizer: Maximum iterations (200) reached and the optimization hasn't converged yet.\n",
      "  warnings.warn(\n",
      "C:\\Users\\peter\\AppData\\Local\\Programs\\Python\\Python39\\lib\\site-packages\\sklearn\\neural_network\\_multilayer_perceptron.py:684: ConvergenceWarning: Stochastic Optimizer: Maximum iterations (200) reached and the optimization hasn't converged yet.\n",
      "  warnings.warn(\n"
     ]
    },
    {
     "data": {
      "text/plain": [
       "array([0.8670972 , 0.92700892, 0.86940219, 0.83686395, 0.72172603])"
      ]
     },
     "execution_count": 21,
     "metadata": {},
     "output_type": "execute_result"
    }
   ],
   "source": [
    "scores = cross_val_score(reg, X, y, cv=5)\n",
    "scores"
   ]
  },
  {
   "cell_type": "code",
   "execution_count": 22,
   "id": "6ad8c220",
   "metadata": {},
   "outputs": [
    {
     "data": {
      "text/plain": [
       "0.844419657066832"
      ]
     },
     "execution_count": 22,
     "metadata": {},
     "output_type": "execute_result"
    }
   ],
   "source": [
    "scores.mean()"
   ]
  },
  {
   "cell_type": "code",
   "execution_count": null,
   "id": "8c365840",
   "metadata": {},
   "outputs": [],
   "source": []
  }
 ],
 "metadata": {
  "kernelspec": {
   "display_name": "Python 3 (ipykernel)",
   "language": "python",
   "name": "python3"
  },
  "language_info": {
   "codemirror_mode": {
    "name": "ipython",
    "version": 3
   },
   "file_extension": ".py",
   "mimetype": "text/x-python",
   "name": "python",
   "nbconvert_exporter": "python",
   "pygments_lexer": "ipython3",
   "version": "3.9.13"
  }
 },
 "nbformat": 4,
 "nbformat_minor": 5
}
