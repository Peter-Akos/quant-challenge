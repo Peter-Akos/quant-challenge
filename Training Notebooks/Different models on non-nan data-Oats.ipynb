{
 "cells": [
  {
   "cell_type": "code",
   "execution_count": 2,
   "id": "b5d32f8b",
   "metadata": {},
   "outputs": [],
   "source": [
    "import pandas as pd\n",
    "import numpy as np\n",
    "from sklearn.linear_model import LinearRegression\n",
    "from sklearn.model_selection import train_test_split\n",
    "from sklearn.decomposition import PCA\n",
    "from sklearn.neural_network import MLPRegressor\n",
    "from sklearn.model_selection import cross_val_score"
   ]
  },
  {
   "cell_type": "code",
   "execution_count": 4,
   "id": "45161947",
   "metadata": {},
   "outputs": [],
   "source": [
    "df = pd.read_csv('../data/united_oats.csv', index_col=0)"
   ]
  },
  {
   "cell_type": "code",
   "execution_count": 5,
   "id": "0f6b29e7",
   "metadata": {},
   "outputs": [
    {
     "data": {
      "text/html": [
       "<div>\n",
       "<style scoped>\n",
       "    .dataframe tbody tr th:only-of-type {\n",
       "        vertical-align: middle;\n",
       "    }\n",
       "\n",
       "    .dataframe tbody tr th {\n",
       "        vertical-align: top;\n",
       "    }\n",
       "\n",
       "    .dataframe thead th {\n",
       "        text-align: right;\n",
       "    }\n",
       "</style>\n",
       "<table border=\"1\" class=\"dataframe\">\n",
       "  <thead>\n",
       "    <tr style=\"text-align: right;\">\n",
       "      <th></th>\n",
       "      <th>01-01-avg</th>\n",
       "      <th>01-01-min</th>\n",
       "      <th>01-01-max</th>\n",
       "      <th>01-01-prec</th>\n",
       "      <th>01-02-avg</th>\n",
       "      <th>01-02-min</th>\n",
       "      <th>01-02-max</th>\n",
       "      <th>01-02-prec</th>\n",
       "      <th>01-03-avg</th>\n",
       "      <th>01-03-min</th>\n",
       "      <th>...</th>\n",
       "      <th>09-27-prec</th>\n",
       "      <th>09-28-avg</th>\n",
       "      <th>09-28-min</th>\n",
       "      <th>09-28-max</th>\n",
       "      <th>09-28-prec</th>\n",
       "      <th>09-30-avg</th>\n",
       "      <th>09-30-min</th>\n",
       "      <th>09-30-max</th>\n",
       "      <th>09-30-prec</th>\n",
       "      <th>Oat_Yield</th>\n",
       "    </tr>\n",
       "  </thead>\n",
       "  <tbody>\n",
       "    <tr>\n",
       "      <th>2016-Pope County</th>\n",
       "      <td>-7.7</td>\n",
       "      <td>-12.0</td>\n",
       "      <td>-4.0</td>\n",
       "      <td>NaN</td>\n",
       "      <td>-7.4</td>\n",
       "      <td>-12.0</td>\n",
       "      <td>-3.0</td>\n",
       "      <td>NaN</td>\n",
       "      <td>-5.1</td>\n",
       "      <td>-11.0</td>\n",
       "      <td>...</td>\n",
       "      <td>NaN</td>\n",
       "      <td>11.4</td>\n",
       "      <td>6.0</td>\n",
       "      <td>17.0</td>\n",
       "      <td>NaN</td>\n",
       "      <td>11.8</td>\n",
       "      <td>6.0</td>\n",
       "      <td>21.0</td>\n",
       "      <td>NaN</td>\n",
       "      <td>48.7</td>\n",
       "    </tr>\n",
       "    <tr>\n",
       "      <th>2021-Pope County</th>\n",
       "      <td>-9.7</td>\n",
       "      <td>-14.0</td>\n",
       "      <td>-6.0</td>\n",
       "      <td>NaN</td>\n",
       "      <td>-4.9</td>\n",
       "      <td>-8.0</td>\n",
       "      <td>0.0</td>\n",
       "      <td>0.0</td>\n",
       "      <td>-6.0</td>\n",
       "      <td>-11.0</td>\n",
       "      <td>...</td>\n",
       "      <td>0.0</td>\n",
       "      <td>20.0</td>\n",
       "      <td>14.2</td>\n",
       "      <td>27.3</td>\n",
       "      <td>0.0</td>\n",
       "      <td>21.3</td>\n",
       "      <td>17.9</td>\n",
       "      <td>26.2</td>\n",
       "      <td>27.0</td>\n",
       "      <td>42.3</td>\n",
       "    </tr>\n",
       "    <tr>\n",
       "      <th>2006-Pope County</th>\n",
       "      <td>-3.2</td>\n",
       "      <td>-4.0</td>\n",
       "      <td>-2.0</td>\n",
       "      <td>NaN</td>\n",
       "      <td>-0.6</td>\n",
       "      <td>-2.0</td>\n",
       "      <td>1.0</td>\n",
       "      <td>NaN</td>\n",
       "      <td>0.2</td>\n",
       "      <td>-1.0</td>\n",
       "      <td>...</td>\n",
       "      <td>NaN</td>\n",
       "      <td>NaN</td>\n",
       "      <td>NaN</td>\n",
       "      <td>NaN</td>\n",
       "      <td>NaN</td>\n",
       "      <td>14.2</td>\n",
       "      <td>8.0</td>\n",
       "      <td>21.0</td>\n",
       "      <td>NaN</td>\n",
       "      <td>50.0</td>\n",
       "    </tr>\n",
       "    <tr>\n",
       "      <th>2010-Pope County</th>\n",
       "      <td>-23.0</td>\n",
       "      <td>-29.0</td>\n",
       "      <td>-19.0</td>\n",
       "      <td>NaN</td>\n",
       "      <td>-26.8</td>\n",
       "      <td>-31.0</td>\n",
       "      <td>-20.0</td>\n",
       "      <td>NaN</td>\n",
       "      <td>-24.2</td>\n",
       "      <td>-29.0</td>\n",
       "      <td>...</td>\n",
       "      <td>NaN</td>\n",
       "      <td>14.5</td>\n",
       "      <td>9.0</td>\n",
       "      <td>20.0</td>\n",
       "      <td>NaN</td>\n",
       "      <td>NaN</td>\n",
       "      <td>NaN</td>\n",
       "      <td>NaN</td>\n",
       "      <td>NaN</td>\n",
       "      <td>70.9</td>\n",
       "    </tr>\n",
       "    <tr>\n",
       "      <th>2011-Pope County</th>\n",
       "      <td>-16.8</td>\n",
       "      <td>-18.0</td>\n",
       "      <td>-14.0</td>\n",
       "      <td>NaN</td>\n",
       "      <td>-17.4</td>\n",
       "      <td>-23.0</td>\n",
       "      <td>-13.0</td>\n",
       "      <td>NaN</td>\n",
       "      <td>-16.5</td>\n",
       "      <td>-23.0</td>\n",
       "      <td>...</td>\n",
       "      <td>NaN</td>\n",
       "      <td>18.8</td>\n",
       "      <td>9.0</td>\n",
       "      <td>28.0</td>\n",
       "      <td>NaN</td>\n",
       "      <td>10.0</td>\n",
       "      <td>4.0</td>\n",
       "      <td>17.0</td>\n",
       "      <td>NaN</td>\n",
       "      <td>66.7</td>\n",
       "    </tr>\n",
       "    <tr>\n",
       "      <th>...</th>\n",
       "      <td>...</td>\n",
       "      <td>...</td>\n",
       "      <td>...</td>\n",
       "      <td>...</td>\n",
       "      <td>...</td>\n",
       "      <td>...</td>\n",
       "      <td>...</td>\n",
       "      <td>...</td>\n",
       "      <td>...</td>\n",
       "      <td>...</td>\n",
       "      <td>...</td>\n",
       "      <td>...</td>\n",
       "      <td>...</td>\n",
       "      <td>...</td>\n",
       "      <td>...</td>\n",
       "      <td>...</td>\n",
       "      <td>...</td>\n",
       "      <td>...</td>\n",
       "      <td>...</td>\n",
       "      <td>...</td>\n",
       "      <td>...</td>\n",
       "    </tr>\n",
       "    <tr>\n",
       "      <th>2020-Hubbard County</th>\n",
       "      <td>-7.9</td>\n",
       "      <td>-15.0</td>\n",
       "      <td>-1.1</td>\n",
       "      <td>0.0</td>\n",
       "      <td>-2.7</td>\n",
       "      <td>-5.0</td>\n",
       "      <td>-1.1</td>\n",
       "      <td>0.0</td>\n",
       "      <td>-6.8</td>\n",
       "      <td>-8.3</td>\n",
       "      <td>...</td>\n",
       "      <td>0.0</td>\n",
       "      <td>9.2</td>\n",
       "      <td>7.2</td>\n",
       "      <td>10.6</td>\n",
       "      <td>0.0</td>\n",
       "      <td>9.1</td>\n",
       "      <td>6.1</td>\n",
       "      <td>15.0</td>\n",
       "      <td>0.0</td>\n",
       "      <td>39.9</td>\n",
       "    </tr>\n",
       "    <tr>\n",
       "      <th>2019-Watonwan County</th>\n",
       "      <td>NaN</td>\n",
       "      <td>NaN</td>\n",
       "      <td>NaN</td>\n",
       "      <td>NaN</td>\n",
       "      <td>-9.2</td>\n",
       "      <td>-17.0</td>\n",
       "      <td>-3.0</td>\n",
       "      <td>NaN</td>\n",
       "      <td>NaN</td>\n",
       "      <td>NaN</td>\n",
       "      <td>...</td>\n",
       "      <td>NaN</td>\n",
       "      <td>NaN</td>\n",
       "      <td>NaN</td>\n",
       "      <td>NaN</td>\n",
       "      <td>NaN</td>\n",
       "      <td>NaN</td>\n",
       "      <td>NaN</td>\n",
       "      <td>NaN</td>\n",
       "      <td>NaN</td>\n",
       "      <td>61.4</td>\n",
       "    </tr>\n",
       "    <tr>\n",
       "      <th>2020-Watonwan County</th>\n",
       "      <td>NaN</td>\n",
       "      <td>NaN</td>\n",
       "      <td>NaN</td>\n",
       "      <td>NaN</td>\n",
       "      <td>NaN</td>\n",
       "      <td>NaN</td>\n",
       "      <td>NaN</td>\n",
       "      <td>NaN</td>\n",
       "      <td>NaN</td>\n",
       "      <td>NaN</td>\n",
       "      <td>...</td>\n",
       "      <td>NaN</td>\n",
       "      <td>11.2</td>\n",
       "      <td>9.0</td>\n",
       "      <td>13.0</td>\n",
       "      <td>NaN</td>\n",
       "      <td>13.6</td>\n",
       "      <td>10.0</td>\n",
       "      <td>18.0</td>\n",
       "      <td>NaN</td>\n",
       "      <td>64.2</td>\n",
       "    </tr>\n",
       "    <tr>\n",
       "      <th>2021-Watonwan County</th>\n",
       "      <td>-9.4</td>\n",
       "      <td>-12.0</td>\n",
       "      <td>-6.0</td>\n",
       "      <td>NaN</td>\n",
       "      <td>-7.4</td>\n",
       "      <td>-13.0</td>\n",
       "      <td>-2.0</td>\n",
       "      <td>0.0</td>\n",
       "      <td>-6.5</td>\n",
       "      <td>-12.0</td>\n",
       "      <td>...</td>\n",
       "      <td>0.0</td>\n",
       "      <td>19.3</td>\n",
       "      <td>10.0</td>\n",
       "      <td>30.0</td>\n",
       "      <td>0.0</td>\n",
       "      <td>18.7</td>\n",
       "      <td>15.0</td>\n",
       "      <td>23.0</td>\n",
       "      <td>4.6</td>\n",
       "      <td>58.1</td>\n",
       "    </tr>\n",
       "    <tr>\n",
       "      <th>2011-Watonwan County</th>\n",
       "      <td>-15.5</td>\n",
       "      <td>-18.0</td>\n",
       "      <td>-13.0</td>\n",
       "      <td>NaN</td>\n",
       "      <td>-12.5</td>\n",
       "      <td>-21.0</td>\n",
       "      <td>-6.0</td>\n",
       "      <td>NaN</td>\n",
       "      <td>-8.6</td>\n",
       "      <td>-17.0</td>\n",
       "      <td>...</td>\n",
       "      <td>NaN</td>\n",
       "      <td>18.5</td>\n",
       "      <td>10.0</td>\n",
       "      <td>29.0</td>\n",
       "      <td>NaN</td>\n",
       "      <td>12.5</td>\n",
       "      <td>7.0</td>\n",
       "      <td>19.0</td>\n",
       "      <td>NaN</td>\n",
       "      <td>56.3</td>\n",
       "    </tr>\n",
       "  </tbody>\n",
       "</table>\n",
       "<p>964 rows × 889 columns</p>\n",
       "</div>"
      ],
      "text/plain": [
       "                      01-01-avg  01-01-min  01-01-max  01-01-prec  01-02-avg  \\\n",
       "2016-Pope County           -7.7      -12.0       -4.0         NaN       -7.4   \n",
       "2021-Pope County           -9.7      -14.0       -6.0         NaN       -4.9   \n",
       "2006-Pope County           -3.2       -4.0       -2.0         NaN       -0.6   \n",
       "2010-Pope County          -23.0      -29.0      -19.0         NaN      -26.8   \n",
       "2011-Pope County          -16.8      -18.0      -14.0         NaN      -17.4   \n",
       "...                         ...        ...        ...         ...        ...   \n",
       "2020-Hubbard County        -7.9      -15.0       -1.1         0.0       -2.7   \n",
       "2019-Watonwan County        NaN        NaN        NaN         NaN       -9.2   \n",
       "2020-Watonwan County        NaN        NaN        NaN         NaN        NaN   \n",
       "2021-Watonwan County       -9.4      -12.0       -6.0         NaN       -7.4   \n",
       "2011-Watonwan County      -15.5      -18.0      -13.0         NaN      -12.5   \n",
       "\n",
       "                      01-02-min  01-02-max  01-02-prec  01-03-avg  01-03-min  \\\n",
       "2016-Pope County          -12.0       -3.0         NaN       -5.1      -11.0   \n",
       "2021-Pope County           -8.0        0.0         0.0       -6.0      -11.0   \n",
       "2006-Pope County           -2.0        1.0         NaN        0.2       -1.0   \n",
       "2010-Pope County          -31.0      -20.0         NaN      -24.2      -29.0   \n",
       "2011-Pope County          -23.0      -13.0         NaN      -16.5      -23.0   \n",
       "...                         ...        ...         ...        ...        ...   \n",
       "2020-Hubbard County        -5.0       -1.1         0.0       -6.8       -8.3   \n",
       "2019-Watonwan County      -17.0       -3.0         NaN        NaN        NaN   \n",
       "2020-Watonwan County        NaN        NaN         NaN        NaN        NaN   \n",
       "2021-Watonwan County      -13.0       -2.0         0.0       -6.5      -12.0   \n",
       "2011-Watonwan County      -21.0       -6.0         NaN       -8.6      -17.0   \n",
       "\n",
       "                      ...  09-27-prec  09-28-avg  09-28-min  09-28-max  \\\n",
       "2016-Pope County      ...         NaN       11.4        6.0       17.0   \n",
       "2021-Pope County      ...         0.0       20.0       14.2       27.3   \n",
       "2006-Pope County      ...         NaN        NaN        NaN        NaN   \n",
       "2010-Pope County      ...         NaN       14.5        9.0       20.0   \n",
       "2011-Pope County      ...         NaN       18.8        9.0       28.0   \n",
       "...                   ...         ...        ...        ...        ...   \n",
       "2020-Hubbard County   ...         0.0        9.2        7.2       10.6   \n",
       "2019-Watonwan County  ...         NaN        NaN        NaN        NaN   \n",
       "2020-Watonwan County  ...         NaN       11.2        9.0       13.0   \n",
       "2021-Watonwan County  ...         0.0       19.3       10.0       30.0   \n",
       "2011-Watonwan County  ...         NaN       18.5       10.0       29.0   \n",
       "\n",
       "                      09-28-prec  09-30-avg  09-30-min  09-30-max  09-30-prec  \\\n",
       "2016-Pope County             NaN       11.8        6.0       21.0         NaN   \n",
       "2021-Pope County             0.0       21.3       17.9       26.2        27.0   \n",
       "2006-Pope County             NaN       14.2        8.0       21.0         NaN   \n",
       "2010-Pope County             NaN        NaN        NaN        NaN         NaN   \n",
       "2011-Pope County             NaN       10.0        4.0       17.0         NaN   \n",
       "...                          ...        ...        ...        ...         ...   \n",
       "2020-Hubbard County          0.0        9.1        6.1       15.0         0.0   \n",
       "2019-Watonwan County         NaN        NaN        NaN        NaN         NaN   \n",
       "2020-Watonwan County         NaN       13.6       10.0       18.0         NaN   \n",
       "2021-Watonwan County         0.0       18.7       15.0       23.0         4.6   \n",
       "2011-Watonwan County         NaN       12.5        7.0       19.0         NaN   \n",
       "\n",
       "                      Oat_Yield  \n",
       "2016-Pope County           48.7  \n",
       "2021-Pope County           42.3  \n",
       "2006-Pope County           50.0  \n",
       "2010-Pope County           70.9  \n",
       "2011-Pope County           66.7  \n",
       "...                         ...  \n",
       "2020-Hubbard County        39.9  \n",
       "2019-Watonwan County       61.4  \n",
       "2020-Watonwan County       64.2  \n",
       "2021-Watonwan County       58.1  \n",
       "2011-Watonwan County       56.3  \n",
       "\n",
       "[964 rows x 889 columns]"
      ]
     },
     "execution_count": 5,
     "metadata": {},
     "output_type": "execute_result"
    }
   ],
   "source": [
    "df"
   ]
  },
  {
   "cell_type": "code",
   "execution_count": 6,
   "id": "41778bf0",
   "metadata": {},
   "outputs": [],
   "source": [
    "df = df.dropna()"
   ]
  },
  {
   "cell_type": "code",
   "execution_count": 7,
   "id": "3c531eca",
   "metadata": {},
   "outputs": [],
   "source": [
    "X = df.drop('Oat_Yield', axis=1)\n",
    "y = df['Oat_Yield']"
   ]
  },
  {
   "cell_type": "code",
   "execution_count": 8,
   "id": "fd827013",
   "metadata": {},
   "outputs": [
    {
     "data": {
      "text/plain": [
       "-5.333127193422075e+21"
      ]
     },
     "execution_count": 8,
     "metadata": {},
     "output_type": "execute_result"
    }
   ],
   "source": [
    "X_train, X_test, y_train, y_test = train_test_split(X,y)\n",
    "reg = LinearRegression().fit(X_train, y_train)\n",
    "reg.score(X_test, y_test)"
   ]
  },
  {
   "cell_type": "code",
   "execution_count": 9,
   "id": "07bec081",
   "metadata": {},
   "outputs": [],
   "source": [
    "pca = PCA(n_components=128)"
   ]
  },
  {
   "cell_type": "code",
   "execution_count": 10,
   "id": "4a411f24",
   "metadata": {},
   "outputs": [
    {
     "data": {
      "text/plain": [
       "PCA(n_components=128)"
      ]
     },
     "execution_count": 10,
     "metadata": {},
     "output_type": "execute_result"
    }
   ],
   "source": [
    "pca.fit(X)"
   ]
  },
  {
   "cell_type": "code",
   "execution_count": 11,
   "id": "ccb740b6",
   "metadata": {},
   "outputs": [
    {
     "data": {
      "text/plain": [
       "0.9824702484772088"
      ]
     },
     "execution_count": 11,
     "metadata": {},
     "output_type": "execute_result"
    }
   ],
   "source": [
    "sum(pca.explained_variance_ratio_)"
   ]
  },
  {
   "cell_type": "code",
   "execution_count": 12,
   "id": "a32c638d",
   "metadata": {},
   "outputs": [
    {
     "data": {
      "text/plain": [
       "array([1000.33863542,  988.98506105,  649.7099758 ,  603.32675888,\n",
       "        570.6308087 ,  565.71557498,  538.0233789 ,  528.51718067,\n",
       "        499.28597563,  487.96599918,  476.60524558,  464.24950032,\n",
       "        446.6293124 ,  437.50621433,  431.11086845,  417.39775367,\n",
       "        414.67187711,  402.48921568,  393.62168261,  387.4844339 ,\n",
       "        381.83502803,  377.31467518,  369.97674055,  360.91126252,\n",
       "        358.72634149,  349.19594338,  343.26706497,  339.04575201,\n",
       "        329.72893852,  325.99420815,  325.09086172,  320.63332675,\n",
       "        316.21333759,  311.92212945,  307.94206866,  303.69506519,\n",
       "        300.99993056,  294.96896172,  288.63774924,  284.62709723,\n",
       "        283.31160836,  279.68285864,  274.87263407,  271.36046919,\n",
       "        265.00016058,  261.56961795,  258.72316333,  256.66261038,\n",
       "        252.13147338,  250.36827722,  244.3722508 ,  242.09694174,\n",
       "        237.60177081,  234.22425708,  232.23579269,  229.0868269 ,\n",
       "        227.90507661,  224.16991299,  220.86444004,  218.96770304,\n",
       "        216.65863426,  212.79631097,  206.66592574,  204.9003108 ,\n",
       "        202.58396529,  199.50303901,  197.21549181,  194.51398398,\n",
       "        191.01968357,  188.8499981 ,  188.26138675,  185.05734765,\n",
       "        182.96873448,  178.75362918,  176.49588418,  176.22676682,\n",
       "        172.53760682,  168.97848987,  167.05921457,  165.70372464,\n",
       "        162.20753928,  160.73469243,  158.836533  ,  156.03465995,\n",
       "        153.71865238,  151.04560968,  149.18125765,  148.06715804,\n",
       "        145.23223645,  143.56967917,  142.51083059,  141.77499294,\n",
       "        138.59112301,  136.54896032,  135.11457345,  134.3028657 ,\n",
       "        132.1233884 ,  130.28837545,  128.69517159,  125.65640177,\n",
       "        124.37084236,  121.58399712,  119.83894051,  117.39564454,\n",
       "        116.44787838,  115.42102964,  113.30986916,  112.55194907,\n",
       "        110.32526068,  109.60403701,  108.47289288,  106.73283282,\n",
       "        105.39089634,  104.67911727,  103.38844785,  101.58485083,\n",
       "        100.20030084,   98.57309021,   98.32510828,   96.26421748,\n",
       "         94.73273361,   93.38358775,   92.63092861,   90.70271084,\n",
       "         89.21331076,   88.66867788,   87.97765933,   86.4136864 ])"
      ]
     },
     "execution_count": 12,
     "metadata": {},
     "output_type": "execute_result"
    }
   ],
   "source": [
    "pca.singular_values_"
   ]
  },
  {
   "cell_type": "code",
   "execution_count": 13,
   "id": "ffd67b30",
   "metadata": {},
   "outputs": [],
   "source": [
    "X_pca = np.asarray(pca.transform(X))"
   ]
  },
  {
   "cell_type": "code",
   "execution_count": 14,
   "id": "4b698cc9",
   "metadata": {},
   "outputs": [
    {
     "data": {
      "text/plain": [
       "0.396493066422113"
      ]
     },
     "execution_count": 14,
     "metadata": {},
     "output_type": "execute_result"
    }
   ],
   "source": [
    "X_train, X_test, y_train, y_test = train_test_split(X_pca,y)\n",
    "reg = LinearRegression().fit(X_train, y_train)\n",
    "reg.score(X_test, y_test)"
   ]
  },
  {
   "cell_type": "code",
   "execution_count": 15,
   "id": "eef593ca",
   "metadata": {},
   "outputs": [
    {
     "data": {
      "text/plain": [
       "0.04675489905805086"
      ]
     },
     "execution_count": 15,
     "metadata": {},
     "output_type": "execute_result"
    }
   ],
   "source": [
    "X_train, X_test, y_train, y_test = train_test_split(X_pca,y)\n",
    "reg = MLPRegressor().fit(X_train, y_train)\n",
    "reg.score(X_test, y_test)"
   ]
  },
  {
   "cell_type": "code",
   "execution_count": 16,
   "id": "8cd54419",
   "metadata": {},
   "outputs": [
    {
     "name": "stderr",
     "output_type": "stream",
     "text": [
      "C:\\Users\\gagyi\\anaconda3\\lib\\site-packages\\sklearn\\neural_network\\_multilayer_perceptron.py:692: ConvergenceWarning: Stochastic Optimizer: Maximum iterations (200) reached and the optimization hasn't converged yet.\n",
      "  warnings.warn(\n",
      "C:\\Users\\gagyi\\anaconda3\\lib\\site-packages\\sklearn\\neural_network\\_multilayer_perceptron.py:692: ConvergenceWarning: Stochastic Optimizer: Maximum iterations (200) reached and the optimization hasn't converged yet.\n",
      "  warnings.warn(\n"
     ]
    },
    {
     "data": {
      "text/plain": [
       "array([-0.21872182,  0.56612272,  0.33416066,  0.24865189,  0.14570509])"
      ]
     },
     "execution_count": 16,
     "metadata": {},
     "output_type": "execute_result"
    }
   ],
   "source": [
    "scores = cross_val_score(reg, X, y, cv=5)\n",
    "scores"
   ]
  },
  {
   "cell_type": "code",
   "execution_count": 17,
   "id": "9d40c51b",
   "metadata": {},
   "outputs": [
    {
     "data": {
      "text/plain": [
       "0.21518370919644664"
      ]
     },
     "execution_count": 17,
     "metadata": {},
     "output_type": "execute_result"
    }
   ],
   "source": [
    "scores.mean()"
   ]
  },
  {
   "cell_type": "code",
   "execution_count": null,
   "id": "b597bd86",
   "metadata": {},
   "outputs": [],
   "source": []
  }
 ],
 "metadata": {
  "kernelspec": {
   "display_name": "Python 3 (ipykernel)",
   "language": "python",
   "name": "python3"
  },
  "language_info": {
   "codemirror_mode": {
    "name": "ipython",
    "version": 3
   },
   "file_extension": ".py",
   "mimetype": "text/x-python",
   "name": "python",
   "nbconvert_exporter": "python",
   "pygments_lexer": "ipython3",
   "version": "3.9.13"
  }
 },
 "nbformat": 4,
 "nbformat_minor": 5
}
